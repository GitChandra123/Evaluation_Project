{
 "cells": [
  {
   "cell_type": "code",
   "execution_count": 296,
   "metadata": {},
   "outputs": [],
   "source": [
    "# Importing libraries\n",
    "import numpy as np\n",
    "import pandas as pd\n",
    "import matplotlib.pyplot as plt\n",
    "\n",
    "import seaborn as sns\n",
    "from sklearn.preprocessing import LabelEncoder, StandardScaler\n",
    "\n",
    "from sklearn.tree import DecisionTreeClassifier\n",
    "from sklearn.svm import SVC\n",
    "\n",
    "from sklearn.metrics import accuracy_score, classification_report, confusion_matrix, roc_curve, auc\n",
    "from sklearn.model_selection import cross_val_score\n",
    "from sklearn.model_selection import GridSearchCV\n",
    "\n",
    "from sklearn.model_selection import train_test_split, cross_val_score\n",
    "from sklearn import linear_model\n",
    "import warnings\n",
    "warnings.filterwarnings('ignore')\n"
   ]
  },
  {
   "cell_type": "code",
   "execution_count": 297,
   "metadata": {},
   "outputs": [
    {
     "data": {
      "text/html": [
       "<div>\n",
       "<style scoped>\n",
       "    .dataframe tbody tr th:only-of-type {\n",
       "        vertical-align: middle;\n",
       "    }\n",
       "\n",
       "    .dataframe tbody tr th {\n",
       "        vertical-align: top;\n",
       "    }\n",
       "\n",
       "    .dataframe thead th {\n",
       "        text-align: right;\n",
       "    }\n",
       "</style>\n",
       "<table border=\"1\" class=\"dataframe\">\n",
       "  <thead>\n",
       "    <tr style=\"text-align: right;\">\n",
       "      <th></th>\n",
       "      <th>objid</th>\n",
       "      <th>ra</th>\n",
       "      <th>dec</th>\n",
       "      <th>u</th>\n",
       "      <th>g</th>\n",
       "      <th>r</th>\n",
       "      <th>i</th>\n",
       "      <th>z</th>\n",
       "      <th>run</th>\n",
       "      <th>rerun</th>\n",
       "      <th>camcol</th>\n",
       "      <th>field</th>\n",
       "      <th>specobjid</th>\n",
       "      <th>class</th>\n",
       "      <th>redshift</th>\n",
       "      <th>plate</th>\n",
       "      <th>mjd</th>\n",
       "      <th>fiberid</th>\n",
       "    </tr>\n",
       "  </thead>\n",
       "  <tbody>\n",
       "    <tr>\n",
       "      <th>0</th>\n",
       "      <td>1.237650e+18</td>\n",
       "      <td>183.531326</td>\n",
       "      <td>0.089693</td>\n",
       "      <td>19.47406</td>\n",
       "      <td>17.04240</td>\n",
       "      <td>15.94699</td>\n",
       "      <td>15.50342</td>\n",
       "      <td>15.22531</td>\n",
       "      <td>752</td>\n",
       "      <td>301</td>\n",
       "      <td>4</td>\n",
       "      <td>267</td>\n",
       "      <td>3.722360e+18</td>\n",
       "      <td>STAR</td>\n",
       "      <td>-0.000009</td>\n",
       "      <td>3306</td>\n",
       "      <td>54922</td>\n",
       "      <td>491</td>\n",
       "    </tr>\n",
       "    <tr>\n",
       "      <th>1</th>\n",
       "      <td>1.237650e+18</td>\n",
       "      <td>183.598371</td>\n",
       "      <td>0.135285</td>\n",
       "      <td>18.66280</td>\n",
       "      <td>17.21449</td>\n",
       "      <td>16.67637</td>\n",
       "      <td>16.48922</td>\n",
       "      <td>16.39150</td>\n",
       "      <td>752</td>\n",
       "      <td>301</td>\n",
       "      <td>4</td>\n",
       "      <td>267</td>\n",
       "      <td>3.638140e+17</td>\n",
       "      <td>STAR</td>\n",
       "      <td>-0.000055</td>\n",
       "      <td>323</td>\n",
       "      <td>51615</td>\n",
       "      <td>541</td>\n",
       "    </tr>\n",
       "    <tr>\n",
       "      <th>2</th>\n",
       "      <td>1.237650e+18</td>\n",
       "      <td>183.680207</td>\n",
       "      <td>0.126185</td>\n",
       "      <td>19.38298</td>\n",
       "      <td>18.19169</td>\n",
       "      <td>17.47428</td>\n",
       "      <td>17.08732</td>\n",
       "      <td>16.80125</td>\n",
       "      <td>752</td>\n",
       "      <td>301</td>\n",
       "      <td>4</td>\n",
       "      <td>268</td>\n",
       "      <td>3.232740e+17</td>\n",
       "      <td>GALAXY</td>\n",
       "      <td>0.123111</td>\n",
       "      <td>287</td>\n",
       "      <td>52023</td>\n",
       "      <td>513</td>\n",
       "    </tr>\n",
       "    <tr>\n",
       "      <th>3</th>\n",
       "      <td>1.237650e+18</td>\n",
       "      <td>183.870529</td>\n",
       "      <td>0.049911</td>\n",
       "      <td>17.76536</td>\n",
       "      <td>16.60272</td>\n",
       "      <td>16.16116</td>\n",
       "      <td>15.98233</td>\n",
       "      <td>15.90438</td>\n",
       "      <td>752</td>\n",
       "      <td>301</td>\n",
       "      <td>4</td>\n",
       "      <td>269</td>\n",
       "      <td>3.722370e+18</td>\n",
       "      <td>STAR</td>\n",
       "      <td>-0.000111</td>\n",
       "      <td>3306</td>\n",
       "      <td>54922</td>\n",
       "      <td>510</td>\n",
       "    </tr>\n",
       "    <tr>\n",
       "      <th>4</th>\n",
       "      <td>1.237650e+18</td>\n",
       "      <td>183.883288</td>\n",
       "      <td>0.102557</td>\n",
       "      <td>17.55025</td>\n",
       "      <td>16.26342</td>\n",
       "      <td>16.43869</td>\n",
       "      <td>16.55492</td>\n",
       "      <td>16.61326</td>\n",
       "      <td>752</td>\n",
       "      <td>301</td>\n",
       "      <td>4</td>\n",
       "      <td>269</td>\n",
       "      <td>3.722370e+18</td>\n",
       "      <td>STAR</td>\n",
       "      <td>0.000590</td>\n",
       "      <td>3306</td>\n",
       "      <td>54922</td>\n",
       "      <td>512</td>\n",
       "    </tr>\n",
       "    <tr>\n",
       "      <th>...</th>\n",
       "      <td>...</td>\n",
       "      <td>...</td>\n",
       "      <td>...</td>\n",
       "      <td>...</td>\n",
       "      <td>...</td>\n",
       "      <td>...</td>\n",
       "      <td>...</td>\n",
       "      <td>...</td>\n",
       "      <td>...</td>\n",
       "      <td>...</td>\n",
       "      <td>...</td>\n",
       "      <td>...</td>\n",
       "      <td>...</td>\n",
       "      <td>...</td>\n",
       "      <td>...</td>\n",
       "      <td>...</td>\n",
       "      <td>...</td>\n",
       "      <td>...</td>\n",
       "    </tr>\n",
       "    <tr>\n",
       "      <th>9995</th>\n",
       "      <td>1.237650e+18</td>\n",
       "      <td>131.316413</td>\n",
       "      <td>51.539547</td>\n",
       "      <td>18.81777</td>\n",
       "      <td>17.47053</td>\n",
       "      <td>16.91508</td>\n",
       "      <td>16.68305</td>\n",
       "      <td>16.50570</td>\n",
       "      <td>1345</td>\n",
       "      <td>301</td>\n",
       "      <td>3</td>\n",
       "      <td>161</td>\n",
       "      <td>5.033450e+17</td>\n",
       "      <td>GALAXY</td>\n",
       "      <td>0.027583</td>\n",
       "      <td>447</td>\n",
       "      <td>51877</td>\n",
       "      <td>246</td>\n",
       "    </tr>\n",
       "    <tr>\n",
       "      <th>9996</th>\n",
       "      <td>1.237650e+18</td>\n",
       "      <td>131.306083</td>\n",
       "      <td>51.671341</td>\n",
       "      <td>18.27255</td>\n",
       "      <td>17.43849</td>\n",
       "      <td>17.07692</td>\n",
       "      <td>16.71661</td>\n",
       "      <td>16.69897</td>\n",
       "      <td>1345</td>\n",
       "      <td>301</td>\n",
       "      <td>3</td>\n",
       "      <td>162</td>\n",
       "      <td>5.033400e+17</td>\n",
       "      <td>GALAXY</td>\n",
       "      <td>0.117772</td>\n",
       "      <td>447</td>\n",
       "      <td>51877</td>\n",
       "      <td>228</td>\n",
       "    </tr>\n",
       "    <tr>\n",
       "      <th>9997</th>\n",
       "      <td>1.237650e+18</td>\n",
       "      <td>131.552562</td>\n",
       "      <td>51.666986</td>\n",
       "      <td>18.75818</td>\n",
       "      <td>17.77784</td>\n",
       "      <td>17.51872</td>\n",
       "      <td>17.43302</td>\n",
       "      <td>17.42048</td>\n",
       "      <td>1345</td>\n",
       "      <td>301</td>\n",
       "      <td>3</td>\n",
       "      <td>162</td>\n",
       "      <td>8.222620e+18</td>\n",
       "      <td>STAR</td>\n",
       "      <td>-0.000402</td>\n",
       "      <td>7303</td>\n",
       "      <td>57013</td>\n",
       "      <td>622</td>\n",
       "    </tr>\n",
       "    <tr>\n",
       "      <th>9998</th>\n",
       "      <td>1.237650e+18</td>\n",
       "      <td>131.477151</td>\n",
       "      <td>51.753068</td>\n",
       "      <td>18.88287</td>\n",
       "      <td>17.91068</td>\n",
       "      <td>17.53152</td>\n",
       "      <td>17.36284</td>\n",
       "      <td>17.13988</td>\n",
       "      <td>1345</td>\n",
       "      <td>301</td>\n",
       "      <td>3</td>\n",
       "      <td>163</td>\n",
       "      <td>5.033400e+17</td>\n",
       "      <td>GALAXY</td>\n",
       "      <td>0.014019</td>\n",
       "      <td>447</td>\n",
       "      <td>51877</td>\n",
       "      <td>229</td>\n",
       "    </tr>\n",
       "    <tr>\n",
       "      <th>9999</th>\n",
       "      <td>1.237650e+18</td>\n",
       "      <td>131.665012</td>\n",
       "      <td>51.805307</td>\n",
       "      <td>19.27586</td>\n",
       "      <td>17.37829</td>\n",
       "      <td>16.30542</td>\n",
       "      <td>15.83548</td>\n",
       "      <td>15.50588</td>\n",
       "      <td>1345</td>\n",
       "      <td>301</td>\n",
       "      <td>3</td>\n",
       "      <td>163</td>\n",
       "      <td>5.033410e+17</td>\n",
       "      <td>GALAXY</td>\n",
       "      <td>0.118417</td>\n",
       "      <td>447</td>\n",
       "      <td>51877</td>\n",
       "      <td>233</td>\n",
       "    </tr>\n",
       "  </tbody>\n",
       "</table>\n",
       "<p>10000 rows × 18 columns</p>\n",
       "</div>"
      ],
      "text/plain": [
       "             objid          ra        dec         u         g         r  \\\n",
       "0     1.237650e+18  183.531326   0.089693  19.47406  17.04240  15.94699   \n",
       "1     1.237650e+18  183.598371   0.135285  18.66280  17.21449  16.67637   \n",
       "2     1.237650e+18  183.680207   0.126185  19.38298  18.19169  17.47428   \n",
       "3     1.237650e+18  183.870529   0.049911  17.76536  16.60272  16.16116   \n",
       "4     1.237650e+18  183.883288   0.102557  17.55025  16.26342  16.43869   \n",
       "...            ...         ...        ...       ...       ...       ...   \n",
       "9995  1.237650e+18  131.316413  51.539547  18.81777  17.47053  16.91508   \n",
       "9996  1.237650e+18  131.306083  51.671341  18.27255  17.43849  17.07692   \n",
       "9997  1.237650e+18  131.552562  51.666986  18.75818  17.77784  17.51872   \n",
       "9998  1.237650e+18  131.477151  51.753068  18.88287  17.91068  17.53152   \n",
       "9999  1.237650e+18  131.665012  51.805307  19.27586  17.37829  16.30542   \n",
       "\n",
       "             i         z   run  rerun  camcol  field     specobjid   class  \\\n",
       "0     15.50342  15.22531   752    301       4    267  3.722360e+18    STAR   \n",
       "1     16.48922  16.39150   752    301       4    267  3.638140e+17    STAR   \n",
       "2     17.08732  16.80125   752    301       4    268  3.232740e+17  GALAXY   \n",
       "3     15.98233  15.90438   752    301       4    269  3.722370e+18    STAR   \n",
       "4     16.55492  16.61326   752    301       4    269  3.722370e+18    STAR   \n",
       "...        ...       ...   ...    ...     ...    ...           ...     ...   \n",
       "9995  16.68305  16.50570  1345    301       3    161  5.033450e+17  GALAXY   \n",
       "9996  16.71661  16.69897  1345    301       3    162  5.033400e+17  GALAXY   \n",
       "9997  17.43302  17.42048  1345    301       3    162  8.222620e+18    STAR   \n",
       "9998  17.36284  17.13988  1345    301       3    163  5.033400e+17  GALAXY   \n",
       "9999  15.83548  15.50588  1345    301       3    163  5.033410e+17  GALAXY   \n",
       "\n",
       "      redshift  plate    mjd  fiberid  \n",
       "0    -0.000009   3306  54922      491  \n",
       "1    -0.000055    323  51615      541  \n",
       "2     0.123111    287  52023      513  \n",
       "3    -0.000111   3306  54922      510  \n",
       "4     0.000590   3306  54922      512  \n",
       "...        ...    ...    ...      ...  \n",
       "9995  0.027583    447  51877      246  \n",
       "9996  0.117772    447  51877      228  \n",
       "9997 -0.000402   7303  57013      622  \n",
       "9998  0.014019    447  51877      229  \n",
       "9999  0.118417    447  51877      233  \n",
       "\n",
       "[10000 rows x 18 columns]"
      ]
     },
     "execution_count": 297,
     "metadata": {},
     "output_type": "execute_result"
    }
   ],
   "source": [
    "# Reading data from csv file\n",
    "ds = pd.read_csv('Space.csv')\n",
    "ds"
   ]
  },
  {
   "cell_type": "code",
   "execution_count": 298,
   "metadata": {},
   "outputs": [],
   "source": [
    "# dropping the null values \n",
    "ds.dropna(inplace=True)"
   ]
  },
  {
   "cell_type": "code",
   "execution_count": 299,
   "metadata": {},
   "outputs": [
    {
     "data": {
      "text/plain": [
       "(10000, 18)"
      ]
     },
     "execution_count": 299,
     "metadata": {},
     "output_type": "execute_result"
    }
   ],
   "source": [
    "ds.shape"
   ]
  },
  {
   "cell_type": "code",
   "execution_count": 300,
   "metadata": {},
   "outputs": [
    {
     "name": "stdout",
     "output_type": "stream",
     "text": [
      "Shape of dataset before removing duplicates:  (10000, 18)\n",
      "Shape of dataset after removing duplicates:  (10000, 18)\n"
     ]
    }
   ],
   "source": [
    "# Removing the duplicate rows from the dataset\n",
    "\n",
    "print ('Shape of dataset before removing duplicates: ', ds.shape)\n",
    "# Dropping the duplicate rows\n",
    "ds = ds.drop_duplicates(keep='first')\n",
    "print ('Shape of dataset after removing duplicates: ', ds.shape)"
   ]
  },
  {
   "cell_type": "code",
   "execution_count": 301,
   "metadata": {},
   "outputs": [
    {
     "data": {
      "text/html": [
       "<div>\n",
       "<style scoped>\n",
       "    .dataframe tbody tr th:only-of-type {\n",
       "        vertical-align: middle;\n",
       "    }\n",
       "\n",
       "    .dataframe tbody tr th {\n",
       "        vertical-align: top;\n",
       "    }\n",
       "\n",
       "    .dataframe thead th {\n",
       "        text-align: right;\n",
       "    }\n",
       "</style>\n",
       "<table border=\"1\" class=\"dataframe\">\n",
       "  <thead>\n",
       "    <tr style=\"text-align: right;\">\n",
       "      <th></th>\n",
       "      <th>objid</th>\n",
       "      <th>ra</th>\n",
       "      <th>dec</th>\n",
       "      <th>u</th>\n",
       "      <th>g</th>\n",
       "      <th>r</th>\n",
       "      <th>i</th>\n",
       "      <th>z</th>\n",
       "      <th>run</th>\n",
       "      <th>rerun</th>\n",
       "      <th>camcol</th>\n",
       "      <th>field</th>\n",
       "      <th>specobjid</th>\n",
       "      <th>class</th>\n",
       "      <th>redshift</th>\n",
       "      <th>plate</th>\n",
       "      <th>mjd</th>\n",
       "      <th>fiberid</th>\n",
       "    </tr>\n",
       "  </thead>\n",
       "  <tbody>\n",
       "    <tr>\n",
       "      <th>0</th>\n",
       "      <td>1.237650e+18</td>\n",
       "      <td>183.531326</td>\n",
       "      <td>0.089693</td>\n",
       "      <td>19.47406</td>\n",
       "      <td>17.04240</td>\n",
       "      <td>15.94699</td>\n",
       "      <td>15.50342</td>\n",
       "      <td>15.22531</td>\n",
       "      <td>752</td>\n",
       "      <td>301</td>\n",
       "      <td>4</td>\n",
       "      <td>267</td>\n",
       "      <td>3.722360e+18</td>\n",
       "      <td>STAR</td>\n",
       "      <td>-0.000009</td>\n",
       "      <td>3306</td>\n",
       "      <td>54922</td>\n",
       "      <td>491</td>\n",
       "    </tr>\n",
       "    <tr>\n",
       "      <th>1</th>\n",
       "      <td>1.237650e+18</td>\n",
       "      <td>183.598371</td>\n",
       "      <td>0.135285</td>\n",
       "      <td>18.66280</td>\n",
       "      <td>17.21449</td>\n",
       "      <td>16.67637</td>\n",
       "      <td>16.48922</td>\n",
       "      <td>16.39150</td>\n",
       "      <td>752</td>\n",
       "      <td>301</td>\n",
       "      <td>4</td>\n",
       "      <td>267</td>\n",
       "      <td>3.638140e+17</td>\n",
       "      <td>STAR</td>\n",
       "      <td>-0.000055</td>\n",
       "      <td>323</td>\n",
       "      <td>51615</td>\n",
       "      <td>541</td>\n",
       "    </tr>\n",
       "    <tr>\n",
       "      <th>2</th>\n",
       "      <td>1.237650e+18</td>\n",
       "      <td>183.680207</td>\n",
       "      <td>0.126185</td>\n",
       "      <td>19.38298</td>\n",
       "      <td>18.19169</td>\n",
       "      <td>17.47428</td>\n",
       "      <td>17.08732</td>\n",
       "      <td>16.80125</td>\n",
       "      <td>752</td>\n",
       "      <td>301</td>\n",
       "      <td>4</td>\n",
       "      <td>268</td>\n",
       "      <td>3.232740e+17</td>\n",
       "      <td>GALAXY</td>\n",
       "      <td>0.123111</td>\n",
       "      <td>287</td>\n",
       "      <td>52023</td>\n",
       "      <td>513</td>\n",
       "    </tr>\n",
       "    <tr>\n",
       "      <th>3</th>\n",
       "      <td>1.237650e+18</td>\n",
       "      <td>183.870529</td>\n",
       "      <td>0.049911</td>\n",
       "      <td>17.76536</td>\n",
       "      <td>16.60272</td>\n",
       "      <td>16.16116</td>\n",
       "      <td>15.98233</td>\n",
       "      <td>15.90438</td>\n",
       "      <td>752</td>\n",
       "      <td>301</td>\n",
       "      <td>4</td>\n",
       "      <td>269</td>\n",
       "      <td>3.722370e+18</td>\n",
       "      <td>STAR</td>\n",
       "      <td>-0.000111</td>\n",
       "      <td>3306</td>\n",
       "      <td>54922</td>\n",
       "      <td>510</td>\n",
       "    </tr>\n",
       "    <tr>\n",
       "      <th>4</th>\n",
       "      <td>1.237650e+18</td>\n",
       "      <td>183.883288</td>\n",
       "      <td>0.102557</td>\n",
       "      <td>17.55025</td>\n",
       "      <td>16.26342</td>\n",
       "      <td>16.43869</td>\n",
       "      <td>16.55492</td>\n",
       "      <td>16.61326</td>\n",
       "      <td>752</td>\n",
       "      <td>301</td>\n",
       "      <td>4</td>\n",
       "      <td>269</td>\n",
       "      <td>3.722370e+18</td>\n",
       "      <td>STAR</td>\n",
       "      <td>0.000590</td>\n",
       "      <td>3306</td>\n",
       "      <td>54922</td>\n",
       "      <td>512</td>\n",
       "    </tr>\n",
       "  </tbody>\n",
       "</table>\n",
       "</div>"
      ],
      "text/plain": [
       "          objid          ra       dec         u         g         r         i  \\\n",
       "0  1.237650e+18  183.531326  0.089693  19.47406  17.04240  15.94699  15.50342   \n",
       "1  1.237650e+18  183.598371  0.135285  18.66280  17.21449  16.67637  16.48922   \n",
       "2  1.237650e+18  183.680207  0.126185  19.38298  18.19169  17.47428  17.08732   \n",
       "3  1.237650e+18  183.870529  0.049911  17.76536  16.60272  16.16116  15.98233   \n",
       "4  1.237650e+18  183.883288  0.102557  17.55025  16.26342  16.43869  16.55492   \n",
       "\n",
       "          z  run  rerun  camcol  field     specobjid   class  redshift  plate  \\\n",
       "0  15.22531  752    301       4    267  3.722360e+18    STAR -0.000009   3306   \n",
       "1  16.39150  752    301       4    267  3.638140e+17    STAR -0.000055    323   \n",
       "2  16.80125  752    301       4    268  3.232740e+17  GALAXY  0.123111    287   \n",
       "3  15.90438  752    301       4    269  3.722370e+18    STAR -0.000111   3306   \n",
       "4  16.61326  752    301       4    269  3.722370e+18    STAR  0.000590   3306   \n",
       "\n",
       "     mjd  fiberid  \n",
       "0  54922      491  \n",
       "1  51615      541  \n",
       "2  52023      513  \n",
       "3  54922      510  \n",
       "4  54922      512  "
      ]
     },
     "execution_count": 301,
     "metadata": {},
     "output_type": "execute_result"
    }
   ],
   "source": [
    "# Reading the head of the data\n",
    "ds.head()"
   ]
  },
  {
   "cell_type": "code",
   "execution_count": 302,
   "metadata": {},
   "outputs": [
    {
     "data": {
      "text/plain": [
       "(10000, 18)"
      ]
     },
     "execution_count": 302,
     "metadata": {},
     "output_type": "execute_result"
    }
   ],
   "source": [
    "# Checking the columns of the dataset\n",
    "ds.shape"
   ]
  },
  {
   "cell_type": "code",
   "execution_count": 303,
   "metadata": {},
   "outputs": [
    {
     "data": {
      "text/plain": [
       "Index(['objid', 'ra', 'dec', 'u', 'g', 'r', 'i', 'z', 'run', 'rerun', 'camcol',\n",
       "       'field', 'specobjid', 'class', 'redshift', 'plate', 'mjd', 'fiberid'],\n",
       "      dtype='object')"
      ]
     },
     "execution_count": 303,
     "metadata": {},
     "output_type": "execute_result"
    }
   ],
   "source": [
    "ds.columns"
   ]
  },
  {
   "cell_type": "code",
   "execution_count": 304,
   "metadata": {},
   "outputs": [
    {
     "data": {
      "text/plain": [
       "objid        float64\n",
       "ra           float64\n",
       "dec          float64\n",
       "u            float64\n",
       "g            float64\n",
       "r            float64\n",
       "i            float64\n",
       "z            float64\n",
       "run            int64\n",
       "rerun          int64\n",
       "camcol         int64\n",
       "field          int64\n",
       "specobjid    float64\n",
       "class         object\n",
       "redshift     float64\n",
       "plate          int64\n",
       "mjd            int64\n",
       "fiberid        int64\n",
       "dtype: object"
      ]
     },
     "execution_count": 304,
     "metadata": {},
     "output_type": "execute_result"
    }
   ],
   "source": [
    "ds.dtypes"
   ]
  },
  {
   "cell_type": "code",
   "execution_count": 305,
   "metadata": {},
   "outputs": [
    {
     "name": "stdout",
     "output_type": "stream",
     "text": [
      "<class 'pandas.core.frame.DataFrame'>\n",
      "Int64Index: 10000 entries, 0 to 9999\n",
      "Data columns (total 18 columns):\n",
      " #   Column     Non-Null Count  Dtype  \n",
      "---  ------     --------------  -----  \n",
      " 0   objid      10000 non-null  float64\n",
      " 1   ra         10000 non-null  float64\n",
      " 2   dec        10000 non-null  float64\n",
      " 3   u          10000 non-null  float64\n",
      " 4   g          10000 non-null  float64\n",
      " 5   r          10000 non-null  float64\n",
      " 6   i          10000 non-null  float64\n",
      " 7   z          10000 non-null  float64\n",
      " 8   run        10000 non-null  int64  \n",
      " 9   rerun      10000 non-null  int64  \n",
      " 10  camcol     10000 non-null  int64  \n",
      " 11  field      10000 non-null  int64  \n",
      " 12  specobjid  10000 non-null  float64\n",
      " 13  class      10000 non-null  object \n",
      " 14  redshift   10000 non-null  float64\n",
      " 15  plate      10000 non-null  int64  \n",
      " 16  mjd        10000 non-null  int64  \n",
      " 17  fiberid    10000 non-null  int64  \n",
      "dtypes: float64(10), int64(7), object(1)\n",
      "memory usage: 1.4+ MB\n"
     ]
    }
   ],
   "source": [
    "# Checking the dataset columns information\n",
    "ds.info()"
   ]
  },
  {
   "cell_type": "markdown",
   "metadata": {},
   "source": [
    "# Summarize the 'class' distribution"
   ]
  },
  {
   "cell_type": "code",
   "execution_count": 306,
   "metadata": {},
   "outputs": [
    {
     "name": "stdout",
     "output_type": "stream",
     "text": [
      "Class = STAR, Count=4152, Percentage=41.520%\n",
      "Class = GALAXY, Count=4998, Percentage=49.980%\n",
      "Class = QSO, Count=850, Percentage=8.500%\n"
     ]
    }
   ],
   "source": [
    "from collections import Counter\n",
    "\n",
    "target = ds.values[:,-5]\n",
    "counter = Counter(target)\n",
    "\n",
    "for k, v in counter.items():\n",
    "    per = v/len(target) * 100\n",
    "    print ('Class = %s, Count=%d, Percentage=%.3f%%' %(k, v, per) )"
   ]
  },
  {
   "cell_type": "code",
   "execution_count": 307,
   "metadata": {},
   "outputs": [
    {
     "data": {
      "text/plain": [
       "Index(['run', 'rerun', 'camcol', 'field', 'plate', 'mjd', 'fiberid'], dtype='object')"
      ]
     },
     "execution_count": 307,
     "metadata": {},
     "output_type": "execute_result"
    }
   ],
   "source": [
    "# identifying the number columns\n",
    "ds_int = ds.select_dtypes(include=['int64', 'int32'])\n",
    "ds_int.columns"
   ]
  },
  {
   "cell_type": "code",
   "execution_count": 308,
   "metadata": {},
   "outputs": [
    {
     "data": {
      "text/plain": [
       "Index(['class'], dtype='object')"
      ]
     },
     "execution_count": 308,
     "metadata": {},
     "output_type": "execute_result"
    }
   ],
   "source": [
    "# identifying the category columns\n",
    "ds_cat = ds.select_dtypes(include=['object'])\n",
    "ds_cat.columns"
   ]
  },
  {
   "cell_type": "code",
   "execution_count": null,
   "metadata": {},
   "outputs": [],
   "source": []
  },
  {
   "cell_type": "markdown",
   "metadata": {},
   "source": [
    "# Checking the unique values of columns of dataset"
   ]
  },
  {
   "cell_type": "code",
   "execution_count": 309,
   "metadata": {},
   "outputs": [
    {
     "data": {
      "text/plain": [
       "array([183.5313257, 183.5983705, 183.6802074, ..., 131.5525623,\n",
       "       131.4771511, 131.6650121])"
      ]
     },
     "execution_count": 309,
     "metadata": {},
     "output_type": "execute_result"
    }
   ],
   "source": [
    "ds['ra'].unique()"
   ]
  },
  {
   "cell_type": "code",
   "execution_count": 310,
   "metadata": {},
   "outputs": [
    {
     "data": {
      "text/plain": [
       "array([ 0.08969303,  0.13528503,  0.12618509, ..., 51.66698638,\n",
       "       51.75306779, 51.80530747])"
      ]
     },
     "execution_count": 310,
     "metadata": {},
     "output_type": "execute_result"
    }
   ],
   "source": [
    "ds['dec'].unique()"
   ]
  },
  {
   "cell_type": "code",
   "execution_count": 311,
   "metadata": {},
   "outputs": [
    {
     "data": {
      "text/plain": [
       "array([19.47406, 18.6628 , 19.38298, ..., 18.75818, 18.88287, 19.27586])"
      ]
     },
     "execution_count": 311,
     "metadata": {},
     "output_type": "execute_result"
    }
   ],
   "source": [
    "ds['u'].unique()"
   ]
  },
  {
   "cell_type": "code",
   "execution_count": 312,
   "metadata": {},
   "outputs": [
    {
     "data": {
      "text/plain": [
       "array([17.0424 , 17.21449, 18.19169, ..., 17.77784, 17.91068, 17.37829])"
      ]
     },
     "execution_count": 312,
     "metadata": {},
     "output_type": "execute_result"
    }
   ],
   "source": [
    "ds['g'].unique()"
   ]
  },
  {
   "cell_type": "code",
   "execution_count": 313,
   "metadata": {},
   "outputs": [
    {
     "data": {
      "text/plain": [
       "array([15.94699, 16.67637, 17.47428, ..., 17.51872, 17.53152, 16.30542])"
      ]
     },
     "execution_count": 313,
     "metadata": {},
     "output_type": "execute_result"
    }
   ],
   "source": [
    "ds['r'].unique()"
   ]
  },
  {
   "cell_type": "code",
   "execution_count": 314,
   "metadata": {},
   "outputs": [
    {
     "data": {
      "text/plain": [
       "array([15.50342, 16.48922, 17.08732, ..., 17.43302, 17.36284, 15.83548])"
      ]
     },
     "execution_count": 314,
     "metadata": {},
     "output_type": "execute_result"
    }
   ],
   "source": [
    "ds['i'].unique()"
   ]
  },
  {
   "cell_type": "code",
   "execution_count": 315,
   "metadata": {},
   "outputs": [
    {
     "data": {
      "text/plain": [
       "array([15.22531, 16.3915 , 16.80125, ..., 17.42048, 17.13988, 15.50588])"
      ]
     },
     "execution_count": 315,
     "metadata": {},
     "output_type": "execute_result"
    }
   ],
   "source": [
    "ds['z'].unique()"
   ]
  },
  {
   "cell_type": "code",
   "execution_count": 316,
   "metadata": {},
   "outputs": [
    {
     "data": {
      "text/plain": [
       "array([ 752,  756,  308,  727,  745, 1035, 1045, 1140, 1231, 1332, 1334,\n",
       "       1302, 1239, 1119, 1331, 1345, 1350, 1404, 1412, 1336, 1402, 1411,\n",
       "       1356], dtype=int64)"
      ]
     },
     "execution_count": 316,
     "metadata": {},
     "output_type": "execute_result"
    }
   ],
   "source": [
    "ds['run'].unique()"
   ]
  },
  {
   "cell_type": "code",
   "execution_count": 317,
   "metadata": {},
   "outputs": [
    {
     "data": {
      "text/plain": [
       "array([301], dtype=int64)"
      ]
     },
     "execution_count": 317,
     "metadata": {},
     "output_type": "execute_result"
    }
   ],
   "source": [
    "ds['rerun'].unique()"
   ]
  },
  {
   "cell_type": "code",
   "execution_count": 318,
   "metadata": {},
   "outputs": [
    {
     "data": {
      "text/plain": [
       "array([4, 2, 1, 5, 6, 3], dtype=int64)"
      ]
     },
     "execution_count": 318,
     "metadata": {},
     "output_type": "execute_result"
    }
   ],
   "source": [
    "ds['camcol'].unique()"
   ]
  },
  {
   "cell_type": "code",
   "execution_count": 319,
   "metadata": {},
   "outputs": [
    {
     "data": {
      "text/plain": [
       "array([3.72236e+18, 3.63814e+17, 3.23274e+17, ..., 5.03345e+17,\n",
       "       5.03340e+17, 5.03341e+17])"
      ]
     },
     "execution_count": 319,
     "metadata": {},
     "output_type": "execute_result"
    }
   ],
   "source": [
    "ds['specobjid'].unique()"
   ]
  },
  {
   "cell_type": "code",
   "execution_count": 320,
   "metadata": {},
   "outputs": [
    {
     "data": {
      "text/plain": [
       "array(['STAR', 'GALAXY', 'QSO'], dtype=object)"
      ]
     },
     "execution_count": 320,
     "metadata": {},
     "output_type": "execute_result"
    }
   ],
   "source": [
    "ds['class'].unique()"
   ]
  },
  {
   "cell_type": "code",
   "execution_count": 321,
   "metadata": {},
   "outputs": [
    {
     "data": {
      "text/plain": [
       "array([-8.960000e-06, -5.490000e-05,  1.231112e-01, ..., -4.015730e-04,\n",
       "        1.401894e-02,  1.184173e-01])"
      ]
     },
     "execution_count": 321,
     "metadata": {},
     "output_type": "execute_result"
    }
   ],
   "source": [
    "ds['redshift'].unique()"
   ]
  },
  {
   "cell_type": "markdown",
   "metadata": {},
   "source": [
    "# Checking the count of 'Class' based on columns"
   ]
  },
  {
   "cell_type": "code",
   "execution_count": 322,
   "metadata": {},
   "outputs": [
    {
     "data": {
      "text/plain": [
       "camcol\n",
       "1    1298\n",
       "2    1712\n",
       "3    1560\n",
       "4    1834\n",
       "5    1827\n",
       "6    1769\n",
       "Name: class, dtype: int64"
      ]
     },
     "execution_count": 322,
     "metadata": {},
     "output_type": "execute_result"
    }
   ],
   "source": [
    "ds.groupby(['camcol'])['class'].count()"
   ]
  },
  {
   "cell_type": "markdown",
   "metadata": {},
   "source": [
    "# Statistical Summary"
   ]
  },
  {
   "cell_type": "code",
   "execution_count": 323,
   "metadata": {},
   "outputs": [
    {
     "data": {
      "text/html": [
       "<div>\n",
       "<style scoped>\n",
       "    .dataframe tbody tr th:only-of-type {\n",
       "        vertical-align: middle;\n",
       "    }\n",
       "\n",
       "    .dataframe tbody tr th {\n",
       "        vertical-align: top;\n",
       "    }\n",
       "\n",
       "    .dataframe thead th {\n",
       "        text-align: right;\n",
       "    }\n",
       "</style>\n",
       "<table border=\"1\" class=\"dataframe\">\n",
       "  <thead>\n",
       "    <tr style=\"text-align: right;\">\n",
       "      <th></th>\n",
       "      <th>objid</th>\n",
       "      <th>ra</th>\n",
       "      <th>dec</th>\n",
       "      <th>u</th>\n",
       "      <th>g</th>\n",
       "      <th>r</th>\n",
       "      <th>i</th>\n",
       "      <th>z</th>\n",
       "      <th>run</th>\n",
       "      <th>rerun</th>\n",
       "      <th>camcol</th>\n",
       "      <th>field</th>\n",
       "      <th>specobjid</th>\n",
       "      <th>redshift</th>\n",
       "      <th>plate</th>\n",
       "      <th>mjd</th>\n",
       "      <th>fiberid</th>\n",
       "    </tr>\n",
       "  </thead>\n",
       "  <tbody>\n",
       "    <tr>\n",
       "      <th>count</th>\n",
       "      <td>1.000000e+04</td>\n",
       "      <td>10000.000000</td>\n",
       "      <td>10000.000000</td>\n",
       "      <td>10000.000000</td>\n",
       "      <td>10000.000000</td>\n",
       "      <td>10000.000000</td>\n",
       "      <td>10000.000000</td>\n",
       "      <td>10000.000000</td>\n",
       "      <td>10000.000000</td>\n",
       "      <td>10000.0</td>\n",
       "      <td>10000.000000</td>\n",
       "      <td>10000.000000</td>\n",
       "      <td>1.000000e+04</td>\n",
       "      <td>10000.000000</td>\n",
       "      <td>10000.000000</td>\n",
       "      <td>10000.000000</td>\n",
       "      <td>10000.000000</td>\n",
       "    </tr>\n",
       "    <tr>\n",
       "      <th>mean</th>\n",
       "      <td>1.237650e+18</td>\n",
       "      <td>175.529987</td>\n",
       "      <td>14.836148</td>\n",
       "      <td>18.619355</td>\n",
       "      <td>17.371931</td>\n",
       "      <td>16.840963</td>\n",
       "      <td>16.583579</td>\n",
       "      <td>16.422833</td>\n",
       "      <td>981.034800</td>\n",
       "      <td>301.0</td>\n",
       "      <td>3.648700</td>\n",
       "      <td>302.380100</td>\n",
       "      <td>1.645022e+18</td>\n",
       "      <td>0.143726</td>\n",
       "      <td>1460.986400</td>\n",
       "      <td>52943.533300</td>\n",
       "      <td>353.069400</td>\n",
       "    </tr>\n",
       "    <tr>\n",
       "      <th>std</th>\n",
       "      <td>1.577039e+05</td>\n",
       "      <td>47.783439</td>\n",
       "      <td>25.212207</td>\n",
       "      <td>0.828656</td>\n",
       "      <td>0.945457</td>\n",
       "      <td>1.067764</td>\n",
       "      <td>1.141805</td>\n",
       "      <td>1.203188</td>\n",
       "      <td>273.305024</td>\n",
       "      <td>0.0</td>\n",
       "      <td>1.666183</td>\n",
       "      <td>162.577763</td>\n",
       "      <td>2.013998e+18</td>\n",
       "      <td>0.388774</td>\n",
       "      <td>1788.778371</td>\n",
       "      <td>1511.150651</td>\n",
       "      <td>206.298149</td>\n",
       "    </tr>\n",
       "    <tr>\n",
       "      <th>min</th>\n",
       "      <td>1.237650e+18</td>\n",
       "      <td>8.235100</td>\n",
       "      <td>-5.382632</td>\n",
       "      <td>12.988970</td>\n",
       "      <td>12.799550</td>\n",
       "      <td>12.431600</td>\n",
       "      <td>11.947210</td>\n",
       "      <td>11.610410</td>\n",
       "      <td>308.000000</td>\n",
       "      <td>301.0</td>\n",
       "      <td>1.000000</td>\n",
       "      <td>11.000000</td>\n",
       "      <td>2.995780e+17</td>\n",
       "      <td>-0.004136</td>\n",
       "      <td>266.000000</td>\n",
       "      <td>51578.000000</td>\n",
       "      <td>1.000000</td>\n",
       "    </tr>\n",
       "    <tr>\n",
       "      <th>25%</th>\n",
       "      <td>1.237650e+18</td>\n",
       "      <td>157.370946</td>\n",
       "      <td>-0.539035</td>\n",
       "      <td>18.178035</td>\n",
       "      <td>16.815100</td>\n",
       "      <td>16.173333</td>\n",
       "      <td>15.853705</td>\n",
       "      <td>15.618285</td>\n",
       "      <td>752.000000</td>\n",
       "      <td>301.0</td>\n",
       "      <td>2.000000</td>\n",
       "      <td>184.000000</td>\n",
       "      <td>3.389248e+17</td>\n",
       "      <td>0.000081</td>\n",
       "      <td>301.000000</td>\n",
       "      <td>51900.000000</td>\n",
       "      <td>186.750000</td>\n",
       "    </tr>\n",
       "    <tr>\n",
       "      <th>50%</th>\n",
       "      <td>1.237650e+18</td>\n",
       "      <td>180.394514</td>\n",
       "      <td>0.404166</td>\n",
       "      <td>18.853095</td>\n",
       "      <td>17.495135</td>\n",
       "      <td>16.858770</td>\n",
       "      <td>16.554985</td>\n",
       "      <td>16.389945</td>\n",
       "      <td>756.000000</td>\n",
       "      <td>301.0</td>\n",
       "      <td>4.000000</td>\n",
       "      <td>299.000000</td>\n",
       "      <td>4.966580e+17</td>\n",
       "      <td>0.042591</td>\n",
       "      <td>441.000000</td>\n",
       "      <td>51997.000000</td>\n",
       "      <td>351.000000</td>\n",
       "    </tr>\n",
       "    <tr>\n",
       "      <th>75%</th>\n",
       "      <td>1.237650e+18</td>\n",
       "      <td>201.547279</td>\n",
       "      <td>35.649397</td>\n",
       "      <td>19.259232</td>\n",
       "      <td>18.010145</td>\n",
       "      <td>17.512675</td>\n",
       "      <td>17.258550</td>\n",
       "      <td>17.141447</td>\n",
       "      <td>1331.000000</td>\n",
       "      <td>301.0</td>\n",
       "      <td>5.000000</td>\n",
       "      <td>414.000000</td>\n",
       "      <td>2.881300e+18</td>\n",
       "      <td>0.092579</td>\n",
       "      <td>2559.000000</td>\n",
       "      <td>54468.000000</td>\n",
       "      <td>510.000000</td>\n",
       "    </tr>\n",
       "    <tr>\n",
       "      <th>max</th>\n",
       "      <td>1.237650e+18</td>\n",
       "      <td>260.884382</td>\n",
       "      <td>68.542265</td>\n",
       "      <td>19.599900</td>\n",
       "      <td>19.918970</td>\n",
       "      <td>24.802040</td>\n",
       "      <td>28.179630</td>\n",
       "      <td>22.833060</td>\n",
       "      <td>1412.000000</td>\n",
       "      <td>301.0</td>\n",
       "      <td>6.000000</td>\n",
       "      <td>768.000000</td>\n",
       "      <td>9.468830e+18</td>\n",
       "      <td>5.353854</td>\n",
       "      <td>8410.000000</td>\n",
       "      <td>57481.000000</td>\n",
       "      <td>1000.000000</td>\n",
       "    </tr>\n",
       "  </tbody>\n",
       "</table>\n",
       "</div>"
      ],
      "text/plain": [
       "              objid            ra           dec             u             g  \\\n",
       "count  1.000000e+04  10000.000000  10000.000000  10000.000000  10000.000000   \n",
       "mean   1.237650e+18    175.529987     14.836148     18.619355     17.371931   \n",
       "std    1.577039e+05     47.783439     25.212207      0.828656      0.945457   \n",
       "min    1.237650e+18      8.235100     -5.382632     12.988970     12.799550   \n",
       "25%    1.237650e+18    157.370946     -0.539035     18.178035     16.815100   \n",
       "50%    1.237650e+18    180.394514      0.404166     18.853095     17.495135   \n",
       "75%    1.237650e+18    201.547279     35.649397     19.259232     18.010145   \n",
       "max    1.237650e+18    260.884382     68.542265     19.599900     19.918970   \n",
       "\n",
       "                  r             i             z           run    rerun  \\\n",
       "count  10000.000000  10000.000000  10000.000000  10000.000000  10000.0   \n",
       "mean      16.840963     16.583579     16.422833    981.034800    301.0   \n",
       "std        1.067764      1.141805      1.203188    273.305024      0.0   \n",
       "min       12.431600     11.947210     11.610410    308.000000    301.0   \n",
       "25%       16.173333     15.853705     15.618285    752.000000    301.0   \n",
       "50%       16.858770     16.554985     16.389945    756.000000    301.0   \n",
       "75%       17.512675     17.258550     17.141447   1331.000000    301.0   \n",
       "max       24.802040     28.179630     22.833060   1412.000000    301.0   \n",
       "\n",
       "             camcol         field     specobjid      redshift         plate  \\\n",
       "count  10000.000000  10000.000000  1.000000e+04  10000.000000  10000.000000   \n",
       "mean       3.648700    302.380100  1.645022e+18      0.143726   1460.986400   \n",
       "std        1.666183    162.577763  2.013998e+18      0.388774   1788.778371   \n",
       "min        1.000000     11.000000  2.995780e+17     -0.004136    266.000000   \n",
       "25%        2.000000    184.000000  3.389248e+17      0.000081    301.000000   \n",
       "50%        4.000000    299.000000  4.966580e+17      0.042591    441.000000   \n",
       "75%        5.000000    414.000000  2.881300e+18      0.092579   2559.000000   \n",
       "max        6.000000    768.000000  9.468830e+18      5.353854   8410.000000   \n",
       "\n",
       "                mjd       fiberid  \n",
       "count  10000.000000  10000.000000  \n",
       "mean   52943.533300    353.069400  \n",
       "std     1511.150651    206.298149  \n",
       "min    51578.000000      1.000000  \n",
       "25%    51900.000000    186.750000  \n",
       "50%    51997.000000    351.000000  \n",
       "75%    54468.000000    510.000000  \n",
       "max    57481.000000   1000.000000  "
      ]
     },
     "execution_count": 323,
     "metadata": {},
     "output_type": "execute_result"
    }
   ],
   "source": [
    "ds.describe()"
   ]
  },
  {
   "cell_type": "code",
   "execution_count": 324,
   "metadata": {},
   "outputs": [
    {
     "data": {
      "text/plain": [
       "objid        0\n",
       "ra           0\n",
       "dec          0\n",
       "u            0\n",
       "g            0\n",
       "r            0\n",
       "i            0\n",
       "z            0\n",
       "run          0\n",
       "rerun        0\n",
       "camcol       0\n",
       "field        0\n",
       "specobjid    0\n",
       "class        0\n",
       "redshift     0\n",
       "plate        0\n",
       "mjd          0\n",
       "fiberid      0\n",
       "dtype: int64"
      ]
     },
     "execution_count": 324,
     "metadata": {},
     "output_type": "execute_result"
    }
   ],
   "source": [
    "ds.isnull().sum()"
   ]
  },
  {
   "cell_type": "code",
   "execution_count": 325,
   "metadata": {},
   "outputs": [
    {
     "data": {
      "text/plain": [
       "objid        0\n",
       "ra           0\n",
       "dec          0\n",
       "u            0\n",
       "g            0\n",
       "r            0\n",
       "i            0\n",
       "z            0\n",
       "run          0\n",
       "rerun        0\n",
       "camcol       0\n",
       "field        0\n",
       "specobjid    0\n",
       "class        0\n",
       "redshift     0\n",
       "plate        0\n",
       "mjd          0\n",
       "fiberid      0\n",
       "dtype: int64"
      ]
     },
     "execution_count": 325,
     "metadata": {},
     "output_type": "execute_result"
    }
   ],
   "source": [
    "ds.isna().sum()"
   ]
  },
  {
   "cell_type": "code",
   "execution_count": 326,
   "metadata": {},
   "outputs": [
    {
     "data": {
      "text/plain": [
       "<matplotlib.axes._subplots.AxesSubplot at 0x2158af6f288>"
      ]
     },
     "execution_count": 326,
     "metadata": {},
     "output_type": "execute_result"
    },
    {
     "data": {
      "image/png": "[encoded data removed]",
      "text/plain": [
       "<Figure size 432x288 with 2 Axes>"
      ]
     },
     "metadata": {
      "needs_background": "light"
     },
     "output_type": "display_data"
    }
   ],
   "source": [
    "sns.heatmap(ds.isnull())"
   ]
  },
  {
   "cell_type": "markdown",
   "metadata": {},
   "source": [
    "# Checking the corelation"
   ]
  },
  {
   "cell_type": "code",
   "execution_count": 327,
   "metadata": {},
   "outputs": [
    {
     "data": {
      "text/html": [
       "<div>\n",
       "<style scoped>\n",
       "    .dataframe tbody tr th:only-of-type {\n",
       "        vertical-align: middle;\n",
       "    }\n",
       "\n",
       "    .dataframe tbody tr th {\n",
       "        vertical-align: top;\n",
       "    }\n",
       "\n",
       "    .dataframe thead th {\n",
       "        text-align: right;\n",
       "    }\n",
       "</style>\n",
       "<table border=\"1\" class=\"dataframe\">\n",
       "  <thead>\n",
       "    <tr style=\"text-align: right;\">\n",
       "      <th></th>\n",
       "      <th>objid</th>\n",
       "      <th>ra</th>\n",
       "      <th>dec</th>\n",
       "      <th>u</th>\n",
       "      <th>g</th>\n",
       "      <th>r</th>\n",
       "      <th>i</th>\n",
       "      <th>z</th>\n",
       "      <th>run</th>\n",
       "      <th>rerun</th>\n",
       "      <th>camcol</th>\n",
       "      <th>field</th>\n",
       "      <th>specobjid</th>\n",
       "      <th>redshift</th>\n",
       "      <th>plate</th>\n",
       "      <th>mjd</th>\n",
       "      <th>fiberid</th>\n",
       "    </tr>\n",
       "  </thead>\n",
       "  <tbody>\n",
       "    <tr>\n",
       "      <th>objid</th>\n",
       "      <td>1.000000e+00</td>\n",
       "      <td>2.524419e-14</td>\n",
       "      <td>-1.937483e-15</td>\n",
       "      <td>5.581214e-14</td>\n",
       "      <td>1.001149e-13</td>\n",
       "      <td>2.995673e-14</td>\n",
       "      <td>2.212198e-14</td>\n",
       "      <td>-4.107700e-14</td>\n",
       "      <td>-1.553011e-14</td>\n",
       "      <td>NaN</td>\n",
       "      <td>1.921887e-15</td>\n",
       "      <td>5.938881e-16</td>\n",
       "      <td>-1.829075e-15</td>\n",
       "      <td>5.085882e-16</td>\n",
       "      <td>4.156934e-16</td>\n",
       "      <td>-3.317582e-15</td>\n",
       "      <td>4.665195e-15</td>\n",
       "    </tr>\n",
       "    <tr>\n",
       "      <th>ra</th>\n",
       "      <td>2.524419e-14</td>\n",
       "      <td>1.000000e+00</td>\n",
       "      <td>3.596046e-03</td>\n",
       "      <td>3.123756e-02</td>\n",
       "      <td>4.390863e-02</td>\n",
       "      <td>4.710290e-02</td>\n",
       "      <td>4.573107e-02</td>\n",
       "      <td>4.294957e-02</td>\n",
       "      <td>-9.274056e-02</td>\n",
       "      <td>NaN</td>\n",
       "      <td>-6.293831e-03</td>\n",
       "      <td>5.946996e-01</td>\n",
       "      <td>-9.532711e-02</td>\n",
       "      <td>3.030740e-02</td>\n",
       "      <td>-9.532933e-02</td>\n",
       "      <td>-8.688726e-02</td>\n",
       "      <td>5.748482e-02</td>\n",
       "    </tr>\n",
       "    <tr>\n",
       "      <th>dec</th>\n",
       "      <td>-1.937483e-15</td>\n",
       "      <td>3.596046e-03</td>\n",
       "      <td>1.000000e+00</td>\n",
       "      <td>3.527932e-02</td>\n",
       "      <td>6.187471e-02</td>\n",
       "      <td>6.340395e-02</td>\n",
       "      <td>5.829189e-02</td>\n",
       "      <td>5.687030e-02</td>\n",
       "      <td>7.783849e-01</td>\n",
       "      <td>NaN</td>\n",
       "      <td>1.146139e-01</td>\n",
       "      <td>-1.314714e-01</td>\n",
       "      <td>8.834533e-02</td>\n",
       "      <td>6.702076e-02</td>\n",
       "      <td>8.834153e-02</td>\n",
       "      <td>6.614663e-02</td>\n",
       "      <td>1.550124e-01</td>\n",
       "    </tr>\n",
       "    <tr>\n",
       "      <th>u</th>\n",
       "      <td>5.581214e-14</td>\n",
       "      <td>3.123756e-02</td>\n",
       "      <td>3.527932e-02</td>\n",
       "      <td>1.000000e+00</td>\n",
       "      <td>8.492320e-01</td>\n",
       "      <td>6.923790e-01</td>\n",
       "      <td>6.026302e-01</td>\n",
       "      <td>5.514828e-01</td>\n",
       "      <td>3.822910e-02</td>\n",
       "      <td>NaN</td>\n",
       "      <td>9.944672e-03</td>\n",
       "      <td>8.547880e-03</td>\n",
       "      <td>-1.294293e-01</td>\n",
       "      <td>1.637409e-01</td>\n",
       "      <td>-1.294304e-01</td>\n",
       "      <td>-1.687927e-01</td>\n",
       "      <td>1.130112e-02</td>\n",
       "    </tr>\n",
       "    <tr>\n",
       "      <th>g</th>\n",
       "      <td>1.001149e-13</td>\n",
       "      <td>4.390863e-02</td>\n",
       "      <td>6.187471e-02</td>\n",
       "      <td>8.492320e-01</td>\n",
       "      <td>1.000000e+00</td>\n",
       "      <td>9.581062e-01</td>\n",
       "      <td>9.074187e-01</td>\n",
       "      <td>8.796222e-01</td>\n",
       "      <td>5.844630e-02</td>\n",
       "      <td>NaN</td>\n",
       "      <td>1.022304e-02</td>\n",
       "      <td>1.465110e-02</td>\n",
       "      <td>-5.497908e-02</td>\n",
       "      <td>4.075763e-01</td>\n",
       "      <td>-5.498078e-02</td>\n",
       "      <td>-9.277155e-02</td>\n",
       "      <td>4.718739e-02</td>\n",
       "    </tr>\n",
       "    <tr>\n",
       "      <th>r</th>\n",
       "      <td>2.995673e-14</td>\n",
       "      <td>4.710290e-02</td>\n",
       "      <td>6.340395e-02</td>\n",
       "      <td>6.923790e-01</td>\n",
       "      <td>9.581062e-01</td>\n",
       "      <td>1.000000e+00</td>\n",
       "      <td>9.776718e-01</td>\n",
       "      <td>9.691967e-01</td>\n",
       "      <td>5.726060e-02</td>\n",
       "      <td>NaN</td>\n",
       "      <td>1.074725e-02</td>\n",
       "      <td>1.713294e-02</td>\n",
       "      <td>1.978831e-02</td>\n",
       "      <td>4.410797e-01</td>\n",
       "      <td>1.978671e-02</td>\n",
       "      <td>-9.344506e-03</td>\n",
       "      <td>6.108141e-02</td>\n",
       "    </tr>\n",
       "    <tr>\n",
       "      <th>i</th>\n",
       "      <td>2.212198e-14</td>\n",
       "      <td>4.573107e-02</td>\n",
       "      <td>5.829189e-02</td>\n",
       "      <td>6.026302e-01</td>\n",
       "      <td>9.074187e-01</td>\n",
       "      <td>9.776718e-01</td>\n",
       "      <td>1.000000e+00</td>\n",
       "      <td>9.815066e-01</td>\n",
       "      <td>4.976478e-02</td>\n",
       "      <td>NaN</td>\n",
       "      <td>1.346079e-02</td>\n",
       "      <td>1.978147e-02</td>\n",
       "      <td>7.295994e-02</td>\n",
       "      <td>4.314500e-01</td>\n",
       "      <td>7.295843e-02</td>\n",
       "      <td>5.089616e-02</td>\n",
       "      <td>6.997739e-02</td>\n",
       "    </tr>\n",
       "    <tr>\n",
       "      <th>z</th>\n",
       "      <td>-4.107700e-14</td>\n",
       "      <td>4.294957e-02</td>\n",
       "      <td>5.687030e-02</td>\n",
       "      <td>5.514828e-01</td>\n",
       "      <td>8.796222e-01</td>\n",
       "      <td>9.691967e-01</td>\n",
       "      <td>9.815066e-01</td>\n",
       "      <td>1.000000e+00</td>\n",
       "      <td>4.825225e-02</td>\n",
       "      <td>NaN</td>\n",
       "      <td>1.092981e-02</td>\n",
       "      <td>1.824845e-02</td>\n",
       "      <td>1.123981e-01</td>\n",
       "      <td>4.240342e-01</td>\n",
       "      <td>1.123969e-01</td>\n",
       "      <td>9.565845e-02</td>\n",
       "      <td>6.797999e-02</td>\n",
       "    </tr>\n",
       "    <tr>\n",
       "      <th>run</th>\n",
       "      <td>-1.553011e-14</td>\n",
       "      <td>-9.274056e-02</td>\n",
       "      <td>7.783849e-01</td>\n",
       "      <td>3.822910e-02</td>\n",
       "      <td>5.844630e-02</td>\n",
       "      <td>5.726060e-02</td>\n",
       "      <td>4.976478e-02</td>\n",
       "      <td>4.825225e-02</td>\n",
       "      <td>1.000000e+00</td>\n",
       "      <td>NaN</td>\n",
       "      <td>1.518143e-01</td>\n",
       "      <td>-4.638975e-01</td>\n",
       "      <td>9.360436e-02</td>\n",
       "      <td>5.905595e-02</td>\n",
       "      <td>9.360107e-02</td>\n",
       "      <td>7.035433e-02</td>\n",
       "      <td>1.385659e-01</td>\n",
       "    </tr>\n",
       "    <tr>\n",
       "      <th>rerun</th>\n",
       "      <td>NaN</td>\n",
       "      <td>NaN</td>\n",
       "      <td>NaN</td>\n",
       "      <td>NaN</td>\n",
       "      <td>NaN</td>\n",
       "      <td>NaN</td>\n",
       "      <td>NaN</td>\n",
       "      <td>NaN</td>\n",
       "      <td>NaN</td>\n",
       "      <td>NaN</td>\n",
       "      <td>NaN</td>\n",
       "      <td>NaN</td>\n",
       "      <td>NaN</td>\n",
       "      <td>NaN</td>\n",
       "      <td>NaN</td>\n",
       "      <td>NaN</td>\n",
       "      <td>NaN</td>\n",
       "    </tr>\n",
       "    <tr>\n",
       "      <th>camcol</th>\n",
       "      <td>1.921887e-15</td>\n",
       "      <td>-6.293831e-03</td>\n",
       "      <td>1.146139e-01</td>\n",
       "      <td>9.944672e-03</td>\n",
       "      <td>1.022304e-02</td>\n",
       "      <td>1.074725e-02</td>\n",
       "      <td>1.346079e-02</td>\n",
       "      <td>1.092981e-02</td>\n",
       "      <td>1.518143e-01</td>\n",
       "      <td>NaN</td>\n",
       "      <td>1.000000e+00</td>\n",
       "      <td>-6.792055e-02</td>\n",
       "      <td>4.080943e-02</td>\n",
       "      <td>6.833537e-03</td>\n",
       "      <td>4.079461e-02</td>\n",
       "      <td>2.628396e-02</td>\n",
       "      <td>5.356292e-01</td>\n",
       "    </tr>\n",
       "    <tr>\n",
       "      <th>field</th>\n",
       "      <td>5.938881e-16</td>\n",
       "      <td>5.946996e-01</td>\n",
       "      <td>-1.314714e-01</td>\n",
       "      <td>8.547880e-03</td>\n",
       "      <td>1.465110e-02</td>\n",
       "      <td>1.713294e-02</td>\n",
       "      <td>1.978147e-02</td>\n",
       "      <td>1.824845e-02</td>\n",
       "      <td>-4.638975e-01</td>\n",
       "      <td>NaN</td>\n",
       "      <td>-6.792055e-02</td>\n",
       "      <td>1.000000e+00</td>\n",
       "      <td>-9.372375e-02</td>\n",
       "      <td>1.541360e-02</td>\n",
       "      <td>-9.372323e-02</td>\n",
       "      <td>-8.655805e-02</td>\n",
       "      <td>-4.049295e-02</td>\n",
       "    </tr>\n",
       "    <tr>\n",
       "      <th>specobjid</th>\n",
       "      <td>-1.829075e-15</td>\n",
       "      <td>-9.532711e-02</td>\n",
       "      <td>8.834533e-02</td>\n",
       "      <td>-1.294293e-01</td>\n",
       "      <td>-5.497908e-02</td>\n",
       "      <td>1.978831e-02</td>\n",
       "      <td>7.295994e-02</td>\n",
       "      <td>1.123981e-01</td>\n",
       "      <td>9.360436e-02</td>\n",
       "      <td>NaN</td>\n",
       "      <td>4.080943e-02</td>\n",
       "      <td>-9.372375e-02</td>\n",
       "      <td>1.000000e+00</td>\n",
       "      <td>-3.808992e-02</td>\n",
       "      <td>1.000000e+00</td>\n",
       "      <td>9.668799e-01</td>\n",
       "      <td>2.298375e-01</td>\n",
       "    </tr>\n",
       "    <tr>\n",
       "      <th>redshift</th>\n",
       "      <td>5.085882e-16</td>\n",
       "      <td>3.030740e-02</td>\n",
       "      <td>6.702076e-02</td>\n",
       "      <td>1.637409e-01</td>\n",
       "      <td>4.075763e-01</td>\n",
       "      <td>4.410797e-01</td>\n",
       "      <td>4.314500e-01</td>\n",
       "      <td>4.240342e-01</td>\n",
       "      <td>5.905595e-02</td>\n",
       "      <td>NaN</td>\n",
       "      <td>6.833537e-03</td>\n",
       "      <td>1.541360e-02</td>\n",
       "      <td>-3.808992e-02</td>\n",
       "      <td>1.000000e+00</td>\n",
       "      <td>-3.809149e-02</td>\n",
       "      <td>-5.795732e-02</td>\n",
       "      <td>4.653223e-02</td>\n",
       "    </tr>\n",
       "    <tr>\n",
       "      <th>plate</th>\n",
       "      <td>4.156934e-16</td>\n",
       "      <td>-9.532933e-02</td>\n",
       "      <td>8.834153e-02</td>\n",
       "      <td>-1.294304e-01</td>\n",
       "      <td>-5.498078e-02</td>\n",
       "      <td>1.978671e-02</td>\n",
       "      <td>7.295843e-02</td>\n",
       "      <td>1.123969e-01</td>\n",
       "      <td>9.360107e-02</td>\n",
       "      <td>NaN</td>\n",
       "      <td>4.079461e-02</td>\n",
       "      <td>-9.372323e-02</td>\n",
       "      <td>1.000000e+00</td>\n",
       "      <td>-3.809149e-02</td>\n",
       "      <td>1.000000e+00</td>\n",
       "      <td>9.668808e-01</td>\n",
       "      <td>2.298108e-01</td>\n",
       "    </tr>\n",
       "    <tr>\n",
       "      <th>mjd</th>\n",
       "      <td>-3.317582e-15</td>\n",
       "      <td>-8.688726e-02</td>\n",
       "      <td>6.614663e-02</td>\n",
       "      <td>-1.687927e-01</td>\n",
       "      <td>-9.277155e-02</td>\n",
       "      <td>-9.344506e-03</td>\n",
       "      <td>5.089616e-02</td>\n",
       "      <td>9.565845e-02</td>\n",
       "      <td>7.035433e-02</td>\n",
       "      <td>NaN</td>\n",
       "      <td>2.628396e-02</td>\n",
       "      <td>-8.655805e-02</td>\n",
       "      <td>9.668799e-01</td>\n",
       "      <td>-5.795732e-02</td>\n",
       "      <td>9.668808e-01</td>\n",
       "      <td>1.000000e+00</td>\n",
       "      <td>1.903281e-01</td>\n",
       "    </tr>\n",
       "    <tr>\n",
       "      <th>fiberid</th>\n",
       "      <td>4.665195e-15</td>\n",
       "      <td>5.748482e-02</td>\n",
       "      <td>1.550124e-01</td>\n",
       "      <td>1.130112e-02</td>\n",
       "      <td>4.718739e-02</td>\n",
       "      <td>6.108141e-02</td>\n",
       "      <td>6.997739e-02</td>\n",
       "      <td>6.797999e-02</td>\n",
       "      <td>1.385659e-01</td>\n",
       "      <td>NaN</td>\n",
       "      <td>5.356292e-01</td>\n",
       "      <td>-4.049295e-02</td>\n",
       "      <td>2.298375e-01</td>\n",
       "      <td>4.653223e-02</td>\n",
       "      <td>2.298108e-01</td>\n",
       "      <td>1.903281e-01</td>\n",
       "      <td>1.000000e+00</td>\n",
       "    </tr>\n",
       "  </tbody>\n",
       "</table>\n",
       "</div>"
      ],
      "text/plain": [
       "                  objid            ra           dec             u  \\\n",
       "objid      1.000000e+00  2.524419e-14 -1.937483e-15  5.581214e-14   \n",
       "ra         2.524419e-14  1.000000e+00  3.596046e-03  3.123756e-02   \n",
       "dec       -1.937483e-15  3.596046e-03  1.000000e+00  3.527932e-02   \n",
       "u          5.581214e-14  3.123756e-02  3.527932e-02  1.000000e+00   \n",
       "g          1.001149e-13  4.390863e-02  6.187471e-02  8.492320e-01   \n",
       "r          2.995673e-14  4.710290e-02  6.340395e-02  6.923790e-01   \n",
       "i          2.212198e-14  4.573107e-02  5.829189e-02  6.026302e-01   \n",
       "z         -4.107700e-14  4.294957e-02  5.687030e-02  5.514828e-01   \n",
       "run       -1.553011e-14 -9.274056e-02  7.783849e-01  3.822910e-02   \n",
       "rerun               NaN           NaN           NaN           NaN   \n",
       "camcol     1.921887e-15 -6.293831e-03  1.146139e-01  9.944672e-03   \n",
       "field      5.938881e-16  5.946996e-01 -1.314714e-01  8.547880e-03   \n",
       "specobjid -1.829075e-15 -9.532711e-02  8.834533e-02 -1.294293e-01   \n",
       "redshift   5.085882e-16  3.030740e-02  6.702076e-02  1.637409e-01   \n",
       "plate      4.156934e-16 -9.532933e-02  8.834153e-02 -1.294304e-01   \n",
       "mjd       -3.317582e-15 -8.688726e-02  6.614663e-02 -1.687927e-01   \n",
       "fiberid    4.665195e-15  5.748482e-02  1.550124e-01  1.130112e-02   \n",
       "\n",
       "                      g             r             i             z  \\\n",
       "objid      1.001149e-13  2.995673e-14  2.212198e-14 -4.107700e-14   \n",
       "ra         4.390863e-02  4.710290e-02  4.573107e-02  4.294957e-02   \n",
       "dec        6.187471e-02  6.340395e-02  5.829189e-02  5.687030e-02   \n",
       "u          8.492320e-01  6.923790e-01  6.026302e-01  5.514828e-01   \n",
       "g          1.000000e+00  9.581062e-01  9.074187e-01  8.796222e-01   \n",
       "r          9.581062e-01  1.000000e+00  9.776718e-01  9.691967e-01   \n",
       "i          9.074187e-01  9.776718e-01  1.000000e+00  9.815066e-01   \n",
       "z          8.796222e-01  9.691967e-01  9.815066e-01  1.000000e+00   \n",
       "run        5.844630e-02  5.726060e-02  4.976478e-02  4.825225e-02   \n",
       "rerun               NaN           NaN           NaN           NaN   \n",
       "camcol     1.022304e-02  1.074725e-02  1.346079e-02  1.092981e-02   \n",
       "field      1.465110e-02  1.713294e-02  1.978147e-02  1.824845e-02   \n",
       "specobjid -5.497908e-02  1.978831e-02  7.295994e-02  1.123981e-01   \n",
       "redshift   4.075763e-01  4.410797e-01  4.314500e-01  4.240342e-01   \n",
       "plate     -5.498078e-02  1.978671e-02  7.295843e-02  1.123969e-01   \n",
       "mjd       -9.277155e-02 -9.344506e-03  5.089616e-02  9.565845e-02   \n",
       "fiberid    4.718739e-02  6.108141e-02  6.997739e-02  6.797999e-02   \n",
       "\n",
       "                    run  rerun        camcol         field     specobjid  \\\n",
       "objid     -1.553011e-14    NaN  1.921887e-15  5.938881e-16 -1.829075e-15   \n",
       "ra        -9.274056e-02    NaN -6.293831e-03  5.946996e-01 -9.532711e-02   \n",
       "dec        7.783849e-01    NaN  1.146139e-01 -1.314714e-01  8.834533e-02   \n",
       "u          3.822910e-02    NaN  9.944672e-03  8.547880e-03 -1.294293e-01   \n",
       "g          5.844630e-02    NaN  1.022304e-02  1.465110e-02 -5.497908e-02   \n",
       "r          5.726060e-02    NaN  1.074725e-02  1.713294e-02  1.978831e-02   \n",
       "i          4.976478e-02    NaN  1.346079e-02  1.978147e-02  7.295994e-02   \n",
       "z          4.825225e-02    NaN  1.092981e-02  1.824845e-02  1.123981e-01   \n",
       "run        1.000000e+00    NaN  1.518143e-01 -4.638975e-01  9.360436e-02   \n",
       "rerun               NaN    NaN           NaN           NaN           NaN   \n",
       "camcol     1.518143e-01    NaN  1.000000e+00 -6.792055e-02  4.080943e-02   \n",
       "field     -4.638975e-01    NaN -6.792055e-02  1.000000e+00 -9.372375e-02   \n",
       "specobjid  9.360436e-02    NaN  4.080943e-02 -9.372375e-02  1.000000e+00   \n",
       "redshift   5.905595e-02    NaN  6.833537e-03  1.541360e-02 -3.808992e-02   \n",
       "plate      9.360107e-02    NaN  4.079461e-02 -9.372323e-02  1.000000e+00   \n",
       "mjd        7.035433e-02    NaN  2.628396e-02 -8.655805e-02  9.668799e-01   \n",
       "fiberid    1.385659e-01    NaN  5.356292e-01 -4.049295e-02  2.298375e-01   \n",
       "\n",
       "               redshift         plate           mjd       fiberid  \n",
       "objid      5.085882e-16  4.156934e-16 -3.317582e-15  4.665195e-15  \n",
       "ra         3.030740e-02 -9.532933e-02 -8.688726e-02  5.748482e-02  \n",
       "dec        6.702076e-02  8.834153e-02  6.614663e-02  1.550124e-01  \n",
       "u          1.637409e-01 -1.294304e-01 -1.687927e-01  1.130112e-02  \n",
       "g          4.075763e-01 -5.498078e-02 -9.277155e-02  4.718739e-02  \n",
       "r          4.410797e-01  1.978671e-02 -9.344506e-03  6.108141e-02  \n",
       "i          4.314500e-01  7.295843e-02  5.089616e-02  6.997739e-02  \n",
       "z          4.240342e-01  1.123969e-01  9.565845e-02  6.797999e-02  \n",
       "run        5.905595e-02  9.360107e-02  7.035433e-02  1.385659e-01  \n",
       "rerun               NaN           NaN           NaN           NaN  \n",
       "camcol     6.833537e-03  4.079461e-02  2.628396e-02  5.356292e-01  \n",
       "field      1.541360e-02 -9.372323e-02 -8.655805e-02 -4.049295e-02  \n",
       "specobjid -3.808992e-02  1.000000e+00  9.668799e-01  2.298375e-01  \n",
       "redshift   1.000000e+00 -3.809149e-02 -5.795732e-02  4.653223e-02  \n",
       "plate     -3.809149e-02  1.000000e+00  9.668808e-01  2.298108e-01  \n",
       "mjd       -5.795732e-02  9.668808e-01  1.000000e+00  1.903281e-01  \n",
       "fiberid    4.653223e-02  2.298108e-01  1.903281e-01  1.000000e+00  "
      ]
     },
     "execution_count": 327,
     "metadata": {},
     "output_type": "execute_result"
    }
   ],
   "source": [
    "ds.corr()"
   ]
  },
  {
   "cell_type": "code",
   "execution_count": 328,
   "metadata": {},
   "outputs": [],
   "source": [
    "ds.drop(columns=['rerun', 'specobjid'], inplace=True)"
   ]
  },
  {
   "cell_type": "code",
   "execution_count": 329,
   "metadata": {},
   "outputs": [
    {
     "data": {
      "text/html": [
       "<div>\n",
       "<style scoped>\n",
       "    .dataframe tbody tr th:only-of-type {\n",
       "        vertical-align: middle;\n",
       "    }\n",
       "\n",
       "    .dataframe tbody tr th {\n",
       "        vertical-align: top;\n",
       "    }\n",
       "\n",
       "    .dataframe thead th {\n",
       "        text-align: right;\n",
       "    }\n",
       "</style>\n",
       "<table border=\"1\" class=\"dataframe\">\n",
       "  <thead>\n",
       "    <tr style=\"text-align: right;\">\n",
       "      <th></th>\n",
       "      <th>objid</th>\n",
       "      <th>ra</th>\n",
       "      <th>dec</th>\n",
       "      <th>u</th>\n",
       "      <th>g</th>\n",
       "      <th>r</th>\n",
       "      <th>i</th>\n",
       "      <th>z</th>\n",
       "      <th>run</th>\n",
       "      <th>camcol</th>\n",
       "      <th>field</th>\n",
       "      <th>redshift</th>\n",
       "      <th>plate</th>\n",
       "      <th>mjd</th>\n",
       "      <th>fiberid</th>\n",
       "    </tr>\n",
       "  </thead>\n",
       "  <tbody>\n",
       "    <tr>\n",
       "      <th>objid</th>\n",
       "      <td>1.000000e+00</td>\n",
       "      <td>2.524419e-14</td>\n",
       "      <td>-1.937483e-15</td>\n",
       "      <td>5.581214e-14</td>\n",
       "      <td>1.001149e-13</td>\n",
       "      <td>2.995673e-14</td>\n",
       "      <td>2.212198e-14</td>\n",
       "      <td>-4.107700e-14</td>\n",
       "      <td>-1.553011e-14</td>\n",
       "      <td>1.921887e-15</td>\n",
       "      <td>5.938881e-16</td>\n",
       "      <td>5.085882e-16</td>\n",
       "      <td>4.156934e-16</td>\n",
       "      <td>-3.317582e-15</td>\n",
       "      <td>4.665195e-15</td>\n",
       "    </tr>\n",
       "    <tr>\n",
       "      <th>ra</th>\n",
       "      <td>2.524419e-14</td>\n",
       "      <td>1.000000e+00</td>\n",
       "      <td>3.596046e-03</td>\n",
       "      <td>3.123756e-02</td>\n",
       "      <td>4.390863e-02</td>\n",
       "      <td>4.710290e-02</td>\n",
       "      <td>4.573107e-02</td>\n",
       "      <td>4.294957e-02</td>\n",
       "      <td>-9.274056e-02</td>\n",
       "      <td>-6.293831e-03</td>\n",
       "      <td>5.946996e-01</td>\n",
       "      <td>3.030740e-02</td>\n",
       "      <td>-9.532933e-02</td>\n",
       "      <td>-8.688726e-02</td>\n",
       "      <td>5.748482e-02</td>\n",
       "    </tr>\n",
       "    <tr>\n",
       "      <th>dec</th>\n",
       "      <td>-1.937483e-15</td>\n",
       "      <td>3.596046e-03</td>\n",
       "      <td>1.000000e+00</td>\n",
       "      <td>3.527932e-02</td>\n",
       "      <td>6.187471e-02</td>\n",
       "      <td>6.340395e-02</td>\n",
       "      <td>5.829189e-02</td>\n",
       "      <td>5.687030e-02</td>\n",
       "      <td>7.783849e-01</td>\n",
       "      <td>1.146139e-01</td>\n",
       "      <td>-1.314714e-01</td>\n",
       "      <td>6.702076e-02</td>\n",
       "      <td>8.834153e-02</td>\n",
       "      <td>6.614663e-02</td>\n",
       "      <td>1.550124e-01</td>\n",
       "    </tr>\n",
       "    <tr>\n",
       "      <th>u</th>\n",
       "      <td>5.581214e-14</td>\n",
       "      <td>3.123756e-02</td>\n",
       "      <td>3.527932e-02</td>\n",
       "      <td>1.000000e+00</td>\n",
       "      <td>8.492320e-01</td>\n",
       "      <td>6.923790e-01</td>\n",
       "      <td>6.026302e-01</td>\n",
       "      <td>5.514828e-01</td>\n",
       "      <td>3.822910e-02</td>\n",
       "      <td>9.944672e-03</td>\n",
       "      <td>8.547880e-03</td>\n",
       "      <td>1.637409e-01</td>\n",
       "      <td>-1.294304e-01</td>\n",
       "      <td>-1.687927e-01</td>\n",
       "      <td>1.130112e-02</td>\n",
       "    </tr>\n",
       "    <tr>\n",
       "      <th>g</th>\n",
       "      <td>1.001149e-13</td>\n",
       "      <td>4.390863e-02</td>\n",
       "      <td>6.187471e-02</td>\n",
       "      <td>8.492320e-01</td>\n",
       "      <td>1.000000e+00</td>\n",
       "      <td>9.581062e-01</td>\n",
       "      <td>9.074187e-01</td>\n",
       "      <td>8.796222e-01</td>\n",
       "      <td>5.844630e-02</td>\n",
       "      <td>1.022304e-02</td>\n",
       "      <td>1.465110e-02</td>\n",
       "      <td>4.075763e-01</td>\n",
       "      <td>-5.498078e-02</td>\n",
       "      <td>-9.277155e-02</td>\n",
       "      <td>4.718739e-02</td>\n",
       "    </tr>\n",
       "    <tr>\n",
       "      <th>r</th>\n",
       "      <td>2.995673e-14</td>\n",
       "      <td>4.710290e-02</td>\n",
       "      <td>6.340395e-02</td>\n",
       "      <td>6.923790e-01</td>\n",
       "      <td>9.581062e-01</td>\n",
       "      <td>1.000000e+00</td>\n",
       "      <td>9.776718e-01</td>\n",
       "      <td>9.691967e-01</td>\n",
       "      <td>5.726060e-02</td>\n",
       "      <td>1.074725e-02</td>\n",
       "      <td>1.713294e-02</td>\n",
       "      <td>4.410797e-01</td>\n",
       "      <td>1.978671e-02</td>\n",
       "      <td>-9.344506e-03</td>\n",
       "      <td>6.108141e-02</td>\n",
       "    </tr>\n",
       "    <tr>\n",
       "      <th>i</th>\n",
       "      <td>2.212198e-14</td>\n",
       "      <td>4.573107e-02</td>\n",
       "      <td>5.829189e-02</td>\n",
       "      <td>6.026302e-01</td>\n",
       "      <td>9.074187e-01</td>\n",
       "      <td>9.776718e-01</td>\n",
       "      <td>1.000000e+00</td>\n",
       "      <td>9.815066e-01</td>\n",
       "      <td>4.976478e-02</td>\n",
       "      <td>1.346079e-02</td>\n",
       "      <td>1.978147e-02</td>\n",
       "      <td>4.314500e-01</td>\n",
       "      <td>7.295843e-02</td>\n",
       "      <td>5.089616e-02</td>\n",
       "      <td>6.997739e-02</td>\n",
       "    </tr>\n",
       "    <tr>\n",
       "      <th>z</th>\n",
       "      <td>-4.107700e-14</td>\n",
       "      <td>4.294957e-02</td>\n",
       "      <td>5.687030e-02</td>\n",
       "      <td>5.514828e-01</td>\n",
       "      <td>8.796222e-01</td>\n",
       "      <td>9.691967e-01</td>\n",
       "      <td>9.815066e-01</td>\n",
       "      <td>1.000000e+00</td>\n",
       "      <td>4.825225e-02</td>\n",
       "      <td>1.092981e-02</td>\n",
       "      <td>1.824845e-02</td>\n",
       "      <td>4.240342e-01</td>\n",
       "      <td>1.123969e-01</td>\n",
       "      <td>9.565845e-02</td>\n",
       "      <td>6.797999e-02</td>\n",
       "    </tr>\n",
       "    <tr>\n",
       "      <th>run</th>\n",
       "      <td>-1.553011e-14</td>\n",
       "      <td>-9.274056e-02</td>\n",
       "      <td>7.783849e-01</td>\n",
       "      <td>3.822910e-02</td>\n",
       "      <td>5.844630e-02</td>\n",
       "      <td>5.726060e-02</td>\n",
       "      <td>4.976478e-02</td>\n",
       "      <td>4.825225e-02</td>\n",
       "      <td>1.000000e+00</td>\n",
       "      <td>1.518143e-01</td>\n",
       "      <td>-4.638975e-01</td>\n",
       "      <td>5.905595e-02</td>\n",
       "      <td>9.360107e-02</td>\n",
       "      <td>7.035433e-02</td>\n",
       "      <td>1.385659e-01</td>\n",
       "    </tr>\n",
       "    <tr>\n",
       "      <th>camcol</th>\n",
       "      <td>1.921887e-15</td>\n",
       "      <td>-6.293831e-03</td>\n",
       "      <td>1.146139e-01</td>\n",
       "      <td>9.944672e-03</td>\n",
       "      <td>1.022304e-02</td>\n",
       "      <td>1.074725e-02</td>\n",
       "      <td>1.346079e-02</td>\n",
       "      <td>1.092981e-02</td>\n",
       "      <td>1.518143e-01</td>\n",
       "      <td>1.000000e+00</td>\n",
       "      <td>-6.792055e-02</td>\n",
       "      <td>6.833537e-03</td>\n",
       "      <td>4.079461e-02</td>\n",
       "      <td>2.628396e-02</td>\n",
       "      <td>5.356292e-01</td>\n",
       "    </tr>\n",
       "    <tr>\n",
       "      <th>field</th>\n",
       "      <td>5.938881e-16</td>\n",
       "      <td>5.946996e-01</td>\n",
       "      <td>-1.314714e-01</td>\n",
       "      <td>8.547880e-03</td>\n",
       "      <td>1.465110e-02</td>\n",
       "      <td>1.713294e-02</td>\n",
       "      <td>1.978147e-02</td>\n",
       "      <td>1.824845e-02</td>\n",
       "      <td>-4.638975e-01</td>\n",
       "      <td>-6.792055e-02</td>\n",
       "      <td>1.000000e+00</td>\n",
       "      <td>1.541360e-02</td>\n",
       "      <td>-9.372323e-02</td>\n",
       "      <td>-8.655805e-02</td>\n",
       "      <td>-4.049295e-02</td>\n",
       "    </tr>\n",
       "    <tr>\n",
       "      <th>redshift</th>\n",
       "      <td>5.085882e-16</td>\n",
       "      <td>3.030740e-02</td>\n",
       "      <td>6.702076e-02</td>\n",
       "      <td>1.637409e-01</td>\n",
       "      <td>4.075763e-01</td>\n",
       "      <td>4.410797e-01</td>\n",
       "      <td>4.314500e-01</td>\n",
       "      <td>4.240342e-01</td>\n",
       "      <td>5.905595e-02</td>\n",
       "      <td>6.833537e-03</td>\n",
       "      <td>1.541360e-02</td>\n",
       "      <td>1.000000e+00</td>\n",
       "      <td>-3.809149e-02</td>\n",
       "      <td>-5.795732e-02</td>\n",
       "      <td>4.653223e-02</td>\n",
       "    </tr>\n",
       "    <tr>\n",
       "      <th>plate</th>\n",
       "      <td>4.156934e-16</td>\n",
       "      <td>-9.532933e-02</td>\n",
       "      <td>8.834153e-02</td>\n",
       "      <td>-1.294304e-01</td>\n",
       "      <td>-5.498078e-02</td>\n",
       "      <td>1.978671e-02</td>\n",
       "      <td>7.295843e-02</td>\n",
       "      <td>1.123969e-01</td>\n",
       "      <td>9.360107e-02</td>\n",
       "      <td>4.079461e-02</td>\n",
       "      <td>-9.372323e-02</td>\n",
       "      <td>-3.809149e-02</td>\n",
       "      <td>1.000000e+00</td>\n",
       "      <td>9.668808e-01</td>\n",
       "      <td>2.298108e-01</td>\n",
       "    </tr>\n",
       "    <tr>\n",
       "      <th>mjd</th>\n",
       "      <td>-3.317582e-15</td>\n",
       "      <td>-8.688726e-02</td>\n",
       "      <td>6.614663e-02</td>\n",
       "      <td>-1.687927e-01</td>\n",
       "      <td>-9.277155e-02</td>\n",
       "      <td>-9.344506e-03</td>\n",
       "      <td>5.089616e-02</td>\n",
       "      <td>9.565845e-02</td>\n",
       "      <td>7.035433e-02</td>\n",
       "      <td>2.628396e-02</td>\n",
       "      <td>-8.655805e-02</td>\n",
       "      <td>-5.795732e-02</td>\n",
       "      <td>9.668808e-01</td>\n",
       "      <td>1.000000e+00</td>\n",
       "      <td>1.903281e-01</td>\n",
       "    </tr>\n",
       "    <tr>\n",
       "      <th>fiberid</th>\n",
       "      <td>4.665195e-15</td>\n",
       "      <td>5.748482e-02</td>\n",
       "      <td>1.550124e-01</td>\n",
       "      <td>1.130112e-02</td>\n",
       "      <td>4.718739e-02</td>\n",
       "      <td>6.108141e-02</td>\n",
       "      <td>6.997739e-02</td>\n",
       "      <td>6.797999e-02</td>\n",
       "      <td>1.385659e-01</td>\n",
       "      <td>5.356292e-01</td>\n",
       "      <td>-4.049295e-02</td>\n",
       "      <td>4.653223e-02</td>\n",
       "      <td>2.298108e-01</td>\n",
       "      <td>1.903281e-01</td>\n",
       "      <td>1.000000e+00</td>\n",
       "    </tr>\n",
       "  </tbody>\n",
       "</table>\n",
       "</div>"
      ],
      "text/plain": [
       "                 objid            ra           dec             u  \\\n",
       "objid     1.000000e+00  2.524419e-14 -1.937483e-15  5.581214e-14   \n",
       "ra        2.524419e-14  1.000000e+00  3.596046e-03  3.123756e-02   \n",
       "dec      -1.937483e-15  3.596046e-03  1.000000e+00  3.527932e-02   \n",
       "u         5.581214e-14  3.123756e-02  3.527932e-02  1.000000e+00   \n",
       "g         1.001149e-13  4.390863e-02  6.187471e-02  8.492320e-01   \n",
       "r         2.995673e-14  4.710290e-02  6.340395e-02  6.923790e-01   \n",
       "i         2.212198e-14  4.573107e-02  5.829189e-02  6.026302e-01   \n",
       "z        -4.107700e-14  4.294957e-02  5.687030e-02  5.514828e-01   \n",
       "run      -1.553011e-14 -9.274056e-02  7.783849e-01  3.822910e-02   \n",
       "camcol    1.921887e-15 -6.293831e-03  1.146139e-01  9.944672e-03   \n",
       "field     5.938881e-16  5.946996e-01 -1.314714e-01  8.547880e-03   \n",
       "redshift  5.085882e-16  3.030740e-02  6.702076e-02  1.637409e-01   \n",
       "plate     4.156934e-16 -9.532933e-02  8.834153e-02 -1.294304e-01   \n",
       "mjd      -3.317582e-15 -8.688726e-02  6.614663e-02 -1.687927e-01   \n",
       "fiberid   4.665195e-15  5.748482e-02  1.550124e-01  1.130112e-02   \n",
       "\n",
       "                     g             r             i             z  \\\n",
       "objid     1.001149e-13  2.995673e-14  2.212198e-14 -4.107700e-14   \n",
       "ra        4.390863e-02  4.710290e-02  4.573107e-02  4.294957e-02   \n",
       "dec       6.187471e-02  6.340395e-02  5.829189e-02  5.687030e-02   \n",
       "u         8.492320e-01  6.923790e-01  6.026302e-01  5.514828e-01   \n",
       "g         1.000000e+00  9.581062e-01  9.074187e-01  8.796222e-01   \n",
       "r         9.581062e-01  1.000000e+00  9.776718e-01  9.691967e-01   \n",
       "i         9.074187e-01  9.776718e-01  1.000000e+00  9.815066e-01   \n",
       "z         8.796222e-01  9.691967e-01  9.815066e-01  1.000000e+00   \n",
       "run       5.844630e-02  5.726060e-02  4.976478e-02  4.825225e-02   \n",
       "camcol    1.022304e-02  1.074725e-02  1.346079e-02  1.092981e-02   \n",
       "field     1.465110e-02  1.713294e-02  1.978147e-02  1.824845e-02   \n",
       "redshift  4.075763e-01  4.410797e-01  4.314500e-01  4.240342e-01   \n",
       "plate    -5.498078e-02  1.978671e-02  7.295843e-02  1.123969e-01   \n",
       "mjd      -9.277155e-02 -9.344506e-03  5.089616e-02  9.565845e-02   \n",
       "fiberid   4.718739e-02  6.108141e-02  6.997739e-02  6.797999e-02   \n",
       "\n",
       "                   run        camcol         field      redshift  \\\n",
       "objid    -1.553011e-14  1.921887e-15  5.938881e-16  5.085882e-16   \n",
       "ra       -9.274056e-02 -6.293831e-03  5.946996e-01  3.030740e-02   \n",
       "dec       7.783849e-01  1.146139e-01 -1.314714e-01  6.702076e-02   \n",
       "u         3.822910e-02  9.944672e-03  8.547880e-03  1.637409e-01   \n",
       "g         5.844630e-02  1.022304e-02  1.465110e-02  4.075763e-01   \n",
       "r         5.726060e-02  1.074725e-02  1.713294e-02  4.410797e-01   \n",
       "i         4.976478e-02  1.346079e-02  1.978147e-02  4.314500e-01   \n",
       "z         4.825225e-02  1.092981e-02  1.824845e-02  4.240342e-01   \n",
       "run       1.000000e+00  1.518143e-01 -4.638975e-01  5.905595e-02   \n",
       "camcol    1.518143e-01  1.000000e+00 -6.792055e-02  6.833537e-03   \n",
       "field    -4.638975e-01 -6.792055e-02  1.000000e+00  1.541360e-02   \n",
       "redshift  5.905595e-02  6.833537e-03  1.541360e-02  1.000000e+00   \n",
       "plate     9.360107e-02  4.079461e-02 -9.372323e-02 -3.809149e-02   \n",
       "mjd       7.035433e-02  2.628396e-02 -8.655805e-02 -5.795732e-02   \n",
       "fiberid   1.385659e-01  5.356292e-01 -4.049295e-02  4.653223e-02   \n",
       "\n",
       "                 plate           mjd       fiberid  \n",
       "objid     4.156934e-16 -3.317582e-15  4.665195e-15  \n",
       "ra       -9.532933e-02 -8.688726e-02  5.748482e-02  \n",
       "dec       8.834153e-02  6.614663e-02  1.550124e-01  \n",
       "u        -1.294304e-01 -1.687927e-01  1.130112e-02  \n",
       "g        -5.498078e-02 -9.277155e-02  4.718739e-02  \n",
       "r         1.978671e-02 -9.344506e-03  6.108141e-02  \n",
       "i         7.295843e-02  5.089616e-02  6.997739e-02  \n",
       "z         1.123969e-01  9.565845e-02  6.797999e-02  \n",
       "run       9.360107e-02  7.035433e-02  1.385659e-01  \n",
       "camcol    4.079461e-02  2.628396e-02  5.356292e-01  \n",
       "field    -9.372323e-02 -8.655805e-02 -4.049295e-02  \n",
       "redshift -3.809149e-02 -5.795732e-02  4.653223e-02  \n",
       "plate     1.000000e+00  9.668808e-01  2.298108e-01  \n",
       "mjd       9.668808e-01  1.000000e+00  1.903281e-01  \n",
       "fiberid   2.298108e-01  1.903281e-01  1.000000e+00  "
      ]
     },
     "execution_count": 329,
     "metadata": {},
     "output_type": "execute_result"
    }
   ],
   "source": [
    "ds.corr()"
   ]
  },
  {
   "cell_type": "code",
   "execution_count": 330,
   "metadata": {},
   "outputs": [
    {
     "data": {
      "text/plain": [
       "<matplotlib.axes._subplots.AxesSubplot at 0x215892b1248>"
      ]
     },
     "execution_count": 330,
     "metadata": {},
     "output_type": "execute_result"
    },
    {
     "data": {
      "image/png": "[encoded data removed]",
      "text/plain": [
       "<Figure size 720x360 with 2 Axes>"
      ]
     },
     "metadata": {
      "needs_background": "light"
     },
     "output_type": "display_data"
    }
   ],
   "source": [
    "plt.figure(figsize=(10,5))\n",
    "sns.heatmap(ds.corr(), annot=True)"
   ]
  },
  {
   "cell_type": "markdown",
   "metadata": {},
   "source": [
    "# Countplots for features"
   ]
  },
  {
   "cell_type": "markdown",
   "metadata": {},
   "source": [
    "Univariate Analysis"
   ]
  },
  {
   "cell_type": "code",
   "execution_count": 331,
   "metadata": {},
   "outputs": [
    {
     "data": {
      "text/plain": [
       "<matplotlib.axes._subplots.AxesSubplot at 0x21588d5f548>"
      ]
     },
     "execution_count": 331,
     "metadata": {},
     "output_type": "execute_result"
    },
    {
     "data": {
      "image/png": "[encoded data removed]",
      "text/plain": [
       "<Figure size 432x288 with 1 Axes>"
      ]
     },
     "metadata": {
      "needs_background": "light"
     },
     "output_type": "display_data"
    }
   ],
   "source": [
    "sns.countplot(ds['class'])"
   ]
  },
  {
   "cell_type": "code",
   "execution_count": 332,
   "metadata": {},
   "outputs": [
    {
     "data": {
      "text/plain": [
       "<matplotlib.axes._subplots.AxesSubplot at 0x2158a640a88>"
      ]
     },
     "execution_count": 332,
     "metadata": {},
     "output_type": "execute_result"
    },
    {
     "data": {
      "image/png": "[encoded data removed]",
      "text/plain": [
       "<Figure size 432x288 with 1 Axes>"
      ]
     },
     "metadata": {
      "needs_background": "light"
     },
     "output_type": "display_data"
    }
   ],
   "source": [
    "sns.countplot(ds['camcol'])"
   ]
  },
  {
   "cell_type": "code",
   "execution_count": 333,
   "metadata": {},
   "outputs": [
    {
     "data": {
      "text/plain": [
       "<matplotlib.axes._subplots.AxesSubplot at 0x2158da38ac8>"
      ]
     },
     "execution_count": 333,
     "metadata": {},
     "output_type": "execute_result"
    },
    {
     "data": {
      "image/png": "[encoded data removed]",
      "text/plain": [
       "<Figure size 432x288 with 1 Axes>"
      ]
     },
     "metadata": {
      "needs_background": "light"
     },
     "output_type": "display_data"
    }
   ],
   "source": [
    "sns.countplot(ds['mjd'])"
   ]
  },
  {
   "cell_type": "markdown",
   "metadata": {},
   "source": [
    "Using LabelEncoder to change categorical data 'class' to numbers"
   ]
  },
  {
   "cell_type": "code",
   "execution_count": 334,
   "metadata": {},
   "outputs": [],
   "source": [
    "le = LabelEncoder()\n",
    "ds['class'] = le.fit_transform(ds['class'])"
   ]
  },
  {
   "cell_type": "code",
   "execution_count": 335,
   "metadata": {},
   "outputs": [
    {
     "data": {
      "text/plain": [
       "objid       float64\n",
       "ra          float64\n",
       "dec         float64\n",
       "u           float64\n",
       "g           float64\n",
       "r           float64\n",
       "i           float64\n",
       "z           float64\n",
       "run           int64\n",
       "camcol        int64\n",
       "field         int64\n",
       "class         int32\n",
       "redshift    float64\n",
       "plate         int64\n",
       "mjd           int64\n",
       "fiberid       int64\n",
       "dtype: object"
      ]
     },
     "execution_count": 335,
     "metadata": {},
     "output_type": "execute_result"
    }
   ],
   "source": [
    "ds.dtypes"
   ]
  },
  {
   "cell_type": "markdown",
   "metadata": {},
   "source": [
    "# Plotting Outliers"
   ]
  },
  {
   "cell_type": "code",
   "execution_count": 336,
   "metadata": {},
   "outputs": [
    {
     "data": {
      "text/plain": [
       "<matplotlib.axes._subplots.AxesSubplot at 0x21588bfd508>"
      ]
     },
     "execution_count": 336,
     "metadata": {},
     "output_type": "execute_result"
    },
    {
     "data": {
      "image/png": "[encoded data removed]",
      "text/plain": [
       "<Figure size 432x288 with 1 Axes>"
      ]
     },
     "metadata": {
      "needs_background": "light"
     },
     "output_type": "display_data"
    }
   ],
   "source": [
    "sns.boxplot(ds['class'])"
   ]
  },
  {
   "cell_type": "code",
   "execution_count": 337,
   "metadata": {},
   "outputs": [
    {
     "data": {
      "text/plain": [
       "<matplotlib.axes._subplots.AxesSubplot at 0x2158b292548>"
      ]
     },
     "execution_count": 337,
     "metadata": {},
     "output_type": "execute_result"
    },
    {
     "data": {
      "image/png": "[encoded data removed]",
      "text/plain": [
       "<Figure size 432x288 with 1 Axes>"
      ]
     },
     "metadata": {
      "needs_background": "light"
     },
     "output_type": "display_data"
    }
   ],
   "source": [
    "sns.boxplot(ds['camcol'])"
   ]
  },
  {
   "cell_type": "code",
   "execution_count": 338,
   "metadata": {},
   "outputs": [
    {
     "data": {
      "text/plain": [
       "<matplotlib.axes._subplots.AxesSubplot at 0x2158b724ec8>"
      ]
     },
     "execution_count": 338,
     "metadata": {},
     "output_type": "execute_result"
    },
    {
     "data": {
      "image/png": "[encoded data removed]",
      "text/plain": [
       "<Figure size 432x288 with 1 Axes>"
      ]
     },
     "metadata": {
      "needs_background": "light"
     },
     "output_type": "display_data"
    }
   ],
   "source": [
    "sns.boxplot(ds['ra'])"
   ]
  },
  {
   "cell_type": "code",
   "execution_count": 339,
   "metadata": {},
   "outputs": [
    {
     "data": {
      "text/plain": [
       "<matplotlib.axes._subplots.AxesSubplot at 0x2158b48cb08>"
      ]
     },
     "execution_count": 339,
     "metadata": {},
     "output_type": "execute_result"
    },
    {
     "data": {
      "image/png": "[encoded data removed]",
      "text/plain": [
       "<Figure size 432x288 with 1 Axes>"
      ]
     },
     "metadata": {
      "needs_background": "light"
     },
     "output_type": "display_data"
    }
   ],
   "source": [
    "sns.boxplot(ds['dec'])"
   ]
  },
  {
   "cell_type": "code",
   "execution_count": 340,
   "metadata": {},
   "outputs": [
    {
     "data": {
      "text/plain": [
       "<matplotlib.axes._subplots.AxesSubplot at 0x2158b496908>"
      ]
     },
     "execution_count": 340,
     "metadata": {},
     "output_type": "execute_result"
    },
    {
     "data": {
      "image/png": "[encoded data removed]",
      "text/plain": [
       "<Figure size 432x288 with 1 Axes>"
      ]
     },
     "metadata": {
      "needs_background": "light"
     },
     "output_type": "display_data"
    }
   ],
   "source": [
    "sns.boxplot(ds['redshift'])"
   ]
  },
  {
   "cell_type": "code",
   "execution_count": 341,
   "metadata": {},
   "outputs": [
    {
     "data": {
      "text/plain": [
       "<matplotlib.axes._subplots.AxesSubplot at 0x2158ba10448>"
      ]
     },
     "execution_count": 341,
     "metadata": {},
     "output_type": "execute_result"
    },
    {
     "data": {
      "image/png": "[encoded data removed]",
      "text/plain": [
       "<Figure size 432x288 with 1 Axes>"
      ]
     },
     "metadata": {
      "needs_background": "light"
     },
     "output_type": "display_data"
    }
   ],
   "source": [
    "sns.boxplot(ds['plate'])"
   ]
  },
  {
   "cell_type": "code",
   "execution_count": 342,
   "metadata": {},
   "outputs": [
    {
     "data": {
      "text/plain": [
       "<matplotlib.axes._subplots.AxesSubplot at 0x2158a6b7c08>"
      ]
     },
     "execution_count": 342,
     "metadata": {},
     "output_type": "execute_result"
    },
    {
     "data": {
      "image/png": "[encoded data removed]",
      "text/plain": [
       "<Figure size 432x288 with 1 Axes>"
      ]
     },
     "metadata": {
      "needs_background": "light"
     },
     "output_type": "display_data"
    }
   ],
   "source": [
    "sns.boxplot(ds['mjd'])"
   ]
  },
  {
   "cell_type": "code",
   "execution_count": 343,
   "metadata": {},
   "outputs": [
    {
     "data": {
      "text/plain": [
       "<matplotlib.axes._subplots.AxesSubplot at 0x2158b152548>"
      ]
     },
     "execution_count": 343,
     "metadata": {},
     "output_type": "execute_result"
    },
    {
     "data": {
      "image/png": "[encoded data removed]",
      "text/plain": [
       "<Figure size 432x288 with 1 Axes>"
      ]
     },
     "metadata": {
      "needs_background": "light"
     },
     "output_type": "display_data"
    }
   ],
   "source": [
    "sns.boxplot(ds['run'])"
   ]
  },
  {
   "cell_type": "code",
   "execution_count": null,
   "metadata": {},
   "outputs": [],
   "source": []
  },
  {
   "cell_type": "code",
   "execution_count": 344,
   "metadata": {},
   "outputs": [
    {
     "data": {
      "text/plain": [
       "array(['objid', 'ra', 'dec', 'u', 'g', 'r', 'i', 'z', 'run', 'camcol',\n",
       "       'field', 'class', 'redshift', 'plate', 'mjd', 'fiberid'],\n",
       "      dtype=object)"
      ]
     },
     "execution_count": 344,
     "metadata": {},
     "output_type": "execute_result"
    }
   ],
   "source": [
    "collist = ds.columns.values\n",
    "collist"
   ]
  },
  {
   "cell_type": "code",
   "execution_count": 345,
   "metadata": {},
   "outputs": [],
   "source": [
    "ncols = 10\n",
    "nrows = 10"
   ]
  },
  {
   "cell_type": "markdown",
   "metadata": {},
   "source": [
    "# Distribution plots to check the skewness of data"
   ]
  },
  {
   "cell_type": "code",
   "execution_count": 346,
   "metadata": {},
   "outputs": [
    {
     "data": {
      "text/plain": [
       "<matplotlib.axes._subplots.AxesSubplot at 0x2158b221c88>"
      ]
     },
     "execution_count": 346,
     "metadata": {},
     "output_type": "execute_result"
    },
    {
     "data": {
      "image/png": "[encoded data removed]",
      "text/plain": [
       "<Figure size 432x288 with 1 Axes>"
      ]
     },
     "metadata": {
      "needs_background": "light"
     },
     "output_type": "display_data"
    }
   ],
   "source": [
    "sns.distplot(ds['class'])"
   ]
  },
  {
   "cell_type": "code",
   "execution_count": 347,
   "metadata": {},
   "outputs": [
    {
     "data": {
      "image/png": "[encoded data removed]",
      "text/plain": [
       "<Figure size 720x3600 with 15 Axes>"
      ]
     },
     "metadata": {
      "needs_background": "light"
     },
     "output_type": "display_data"
    }
   ],
   "source": [
    "plt.figure(figsize=(ncols, 5*ncols))\n",
    "for i in range(1, len(collist)):\n",
    "    plt.subplot(nrows, ncols, i+1)\n",
    "    sns.distplot(ds[collist[i]])\n",
    "    #plt.tight_layout()"
   ]
  },
  {
   "cell_type": "markdown",
   "metadata": {},
   "source": [
    "From the above plot, it seems data is not normally distributed.\n",
    "only g,r,i,z columns data is normally distributed."
   ]
  },
  {
   "cell_type": "markdown",
   "metadata": {},
   "source": [
    "# Violinplot"
   ]
  },
  {
   "cell_type": "markdown",
   "metadata": {},
   "source": [
    "violinplot: is a method to visualize the distribution of numerical data of different variables.\n"
   ]
  },
  {
   "cell_type": "code",
   "execution_count": 348,
   "metadata": {},
   "outputs": [
    {
     "data": {
      "text/plain": [
       "<matplotlib.axes._subplots.AxesSubplot at 0x2158a68cbc8>"
      ]
     },
     "execution_count": 348,
     "metadata": {},
     "output_type": "execute_result"
    },
    {
     "data": {
      "image/png": "[encoded data removed]",
      "text/plain": [
       "<Figure size 432x288 with 1 Axes>"
      ]
     },
     "metadata": {
      "needs_background": "light"
     },
     "output_type": "display_data"
    }
   ],
   "source": [
    "sns.violinplot(ds['class'])"
   ]
  },
  {
   "cell_type": "code",
   "execution_count": 349,
   "metadata": {},
   "outputs": [
    {
     "data": {
      "text/plain": [
       "<matplotlib.axes._subplots.AxesSubplot at 0x21591703588>"
      ]
     },
     "execution_count": 349,
     "metadata": {},
     "output_type": "execute_result"
    },
    {
     "data": {
      "image/png": "[encoded data removed]",
      "text/plain": [
       "<Figure size 432x288 with 1 Axes>"
      ]
     },
     "metadata": {
      "needs_background": "light"
     },
     "output_type": "display_data"
    }
   ],
   "source": [
    "sns.violinplot(ds['ra'])"
   ]
  },
  {
   "cell_type": "code",
   "execution_count": 350,
   "metadata": {},
   "outputs": [
    {
     "data": {
      "text/plain": [
       "<matplotlib.axes._subplots.AxesSubplot at 0x2159172cb08>"
      ]
     },
     "execution_count": 350,
     "metadata": {},
     "output_type": "execute_result"
    },
    {
     "data": {
      "image/png": "[encoded data removed]",
      "text/plain": [
       "<Figure size 432x288 with 1 Axes>"
      ]
     },
     "metadata": {
      "needs_background": "light"
     },
     "output_type": "display_data"
    }
   ],
   "source": [
    "sns.violinplot(ds['redshift'])"
   ]
  },
  {
   "cell_type": "code",
   "execution_count": 351,
   "metadata": {},
   "outputs": [
    {
     "data": {
      "text/plain": [
       "<matplotlib.axes._subplots.AxesSubplot at 0x21590db6508>"
      ]
     },
     "execution_count": 351,
     "metadata": {},
     "output_type": "execute_result"
    },
    {
     "data": {
      "image/png": "[encoded data removed]",
      "text/plain": [
       "<Figure size 432x288 with 1 Axes>"
      ]
     },
     "metadata": {
      "needs_background": "light"
     },
     "output_type": "display_data"
    }
   ],
   "source": [
    "sns.violinplot(ds['mjd'])"
   ]
  },
  {
   "cell_type": "code",
   "execution_count": 352,
   "metadata": {},
   "outputs": [
    {
     "data": {
      "text/plain": [
       "<matplotlib.axes._subplots.AxesSubplot at 0x21590f03648>"
      ]
     },
     "execution_count": 352,
     "metadata": {},
     "output_type": "execute_result"
    },
    {
     "data": {
      "image/png": "[encoded data removed]",
      "text/plain": [
       "<Figure size 432x288 with 1 Axes>"
      ]
     },
     "metadata": {
      "needs_background": "light"
     },
     "output_type": "display_data"
    }
   ],
   "source": [
    "sns.violinplot(ds['i'])"
   ]
  },
  {
   "cell_type": "code",
   "execution_count": 353,
   "metadata": {},
   "outputs": [
    {
     "data": {
      "text/plain": [
       "<matplotlib.axes._subplots.AxesSubplot at 0x2159172a648>"
      ]
     },
     "execution_count": 353,
     "metadata": {},
     "output_type": "execute_result"
    },
    {
     "data": {
      "image/png": "[encoded data removed]",
      "text/plain": [
       "<Figure size 432x288 with 1 Axes>"
      ]
     },
     "metadata": {
      "needs_background": "light"
     },
     "output_type": "display_data"
    }
   ],
   "source": [
    "sns.violinplot(ds['camcol'])"
   ]
  },
  {
   "cell_type": "code",
   "execution_count": 354,
   "metadata": {},
   "outputs": [
    {
     "data": {
      "text/plain": [
       "<matplotlib.axes._subplots.AxesSubplot at 0x21591601708>"
      ]
     },
     "execution_count": 354,
     "metadata": {},
     "output_type": "execute_result"
    },
    {
     "data": {
      "image/png": "[encoded data removed]",
      "text/plain": [
       "<Figure size 432x288 with 1 Axes>"
      ]
     },
     "metadata": {
      "needs_background": "light"
     },
     "output_type": "display_data"
    }
   ],
   "source": [
    "sns.violinplot(ds['field'])"
   ]
  },
  {
   "cell_type": "code",
   "execution_count": 355,
   "metadata": {},
   "outputs": [
    {
     "data": {
      "text/plain": [
       "<matplotlib.axes._subplots.AxesSubplot at 0x21590d9a2c8>"
      ]
     },
     "execution_count": 355,
     "metadata": {},
     "output_type": "execute_result"
    },
    {
     "data": {
      "image/png": "[encoded data removed]",
      "text/plain": [
       "<Figure size 432x288 with 1 Axes>"
      ]
     },
     "metadata": {
      "needs_background": "light"
     },
     "output_type": "display_data"
    }
   ],
   "source": [
    "sns.violinplot(ds['dec'])"
   ]
  },
  {
   "cell_type": "markdown",
   "metadata": {},
   "source": [
    "# Histograms"
   ]
  },
  {
   "cell_type": "markdown",
   "metadata": {},
   "source": [
    "Histogram is a plot that lets you doscover, and show, the underlying frequency distribution(shape) of a set of\n",
    "continues data"
   ]
  },
  {
   "cell_type": "code",
   "execution_count": 356,
   "metadata": {},
   "outputs": [
    {
     "data": {
      "image/png": "[encoded data removed]",
      "text/plain": [
       "<Figure size 432x288 with 1 Axes>"
      ]
     },
     "metadata": {
      "needs_background": "light"
     },
     "output_type": "display_data"
    }
   ],
   "source": [
    "plt.hist(ds['class'])\n",
    "plt.show()"
   ]
  },
  {
   "cell_type": "code",
   "execution_count": 357,
   "metadata": {},
   "outputs": [
    {
     "data": {
      "image/png": "[encoded data removed]",
      "text/plain": [
       "<Figure size 432x288 with 1 Axes>"
      ]
     },
     "metadata": {
      "needs_background": "light"
     },
     "output_type": "display_data"
    }
   ],
   "source": [
    "plt.hist(ds['z'])\n",
    "plt.show()"
   ]
  },
  {
   "cell_type": "code",
   "execution_count": 358,
   "metadata": {},
   "outputs": [
    {
     "data": {
      "image/png": "[encoded data removed]",
      "text/plain": [
       "<Figure size 432x288 with 1 Axes>"
      ]
     },
     "metadata": {
      "needs_background": "light"
     },
     "output_type": "display_data"
    }
   ],
   "source": [
    "plt.hist(ds['i'])\n",
    "plt.show()"
   ]
  },
  {
   "cell_type": "code",
   "execution_count": 359,
   "metadata": {},
   "outputs": [
    {
     "data": {
      "image/png": "[encoded data removed]",
      "text/plain": [
       "<Figure size 432x288 with 1 Axes>"
      ]
     },
     "metadata": {
      "needs_background": "light"
     },
     "output_type": "display_data"
    }
   ],
   "source": [
    "plt.hist(ds['run'])\n",
    "plt.show()"
   ]
  },
  {
   "cell_type": "code",
   "execution_count": 360,
   "metadata": {},
   "outputs": [
    {
     "data": {
      "image/png": "[encoded data removed]",
      "text/plain": [
       "<Figure size 432x288 with 1 Axes>"
      ]
     },
     "metadata": {
      "needs_background": "light"
     },
     "output_type": "display_data"
    }
   ],
   "source": [
    "plt.hist(ds['plate'])\n",
    "plt.show()"
   ]
  },
  {
   "cell_type": "markdown",
   "metadata": {},
   "source": [
    "# Bivariate Analysis "
   ]
  },
  {
   "cell_type": "code",
   "execution_count": 361,
   "metadata": {},
   "outputs": [
    {
     "data": {
      "image/png": "[encoded data removed]",
      "text/plain": [
       "<Figure size 432x288 with 1 Axes>"
      ]
     },
     "metadata": {
      "needs_background": "light"
     },
     "output_type": "display_data"
    }
   ],
   "source": [
    "plt.plot(ds['ra'], ds['class'], label='linear')\n",
    "plt.show()"
   ]
  },
  {
   "cell_type": "code",
   "execution_count": 362,
   "metadata": {},
   "outputs": [
    {
     "data": {
      "image/png": "[encoded data removed]",
      "text/plain": [
       "<Figure size 432x288 with 1 Axes>"
      ]
     },
     "metadata": {
      "needs_background": "light"
     },
     "output_type": "display_data"
    }
   ],
   "source": [
    "plt.plot(ds['run'], ds['class'])\n",
    "plt.show()"
   ]
  },
  {
   "cell_type": "code",
   "execution_count": 363,
   "metadata": {},
   "outputs": [
    {
     "data": {
      "image/png": "[encoded data removed]",
      "text/plain": [
       "<Figure size 432x288 with 1 Axes>"
      ]
     },
     "metadata": {
      "needs_background": "light"
     },
     "output_type": "display_data"
    }
   ],
   "source": [
    "plt.scatter(x=ds['redshift'], y=ds['camcol'])\n",
    "plt.show()"
   ]
  },
  {
   "cell_type": "markdown",
   "metadata": {},
   "source": [
    "# Swarmplot"
   ]
  },
  {
   "cell_type": "code",
   "execution_count": 364,
   "metadata": {},
   "outputs": [
    {
     "data": {
      "image/png": "[encoded data removed]",
      "text/plain": [
       "<Figure size 432x288 with 1 Axes>"
      ]
     },
     "metadata": {
      "needs_background": "light"
     },
     "output_type": "display_data"
    }
   ],
   "source": [
    "sns.swarmplot(x='mjd', y='class', data=ds)\n",
    "plt.show()"
   ]
  },
  {
   "cell_type": "code",
   "execution_count": 365,
   "metadata": {},
   "outputs": [
    {
     "data": {
      "text/plain": [
       "objid       1.000150\n",
       "ra         -1.227350\n",
       "dec         1.191544\n",
       "u          -1.219795\n",
       "g          -0.536293\n",
       "r          -0.021673\n",
       "i           0.286442\n",
       "z           0.214313\n",
       "run         0.412555\n",
       "camcol     -0.100220\n",
       "field       0.249795\n",
       "class       0.169292\n",
       "redshift    4.265729\n",
       "plate       1.794609\n",
       "mjd         1.039610\n",
       "fiberid     0.308053\n",
       "dtype: float64"
      ]
     },
     "execution_count": 365,
     "metadata": {},
     "output_type": "execute_result"
    }
   ],
   "source": [
    "# Checking the skewness of the data\n",
    "ds.skew()"
   ]
  },
  {
   "cell_type": "code",
   "execution_count": 366,
   "metadata": {},
   "outputs": [
    {
     "name": "stdout",
     "output_type": "stream",
     "text": [
      "(8698, 15) objid\n",
      "(0, 15) ra\n",
      "(0, 15) dec\n",
      "(0, 15) u\n",
      "(0, 15) g\n",
      "(0, 15) r\n",
      "(0, 15) i\n",
      "(0, 15) z\n",
      "(0, 15) run\n",
      "(0, 15) camcol\n",
      "(0, 15) field\n",
      "(0, 15) class\n",
      "(0, 15) redshift\n",
      "(0, 15) plate\n",
      "(0, 15) mjd\n",
      "(0, 15) fiberid\n"
     ]
    }
   ],
   "source": [
    "# Checking the 'z score' / outliers of the dataset, if present, will remove it\n",
    "from scipy.stats import zscore\n",
    "\n",
    "for i in ds.columns:\n",
    "    ds_copy = ds.drop(i, axis=1 )\n",
    "    z = np.abs(zscore(ds_copy))\n",
    "    ds_new = ds_copy [(z<3).all(axis=1)]\n",
    "    print (ds_new.shape, i)"
   ]
  },
  {
   "cell_type": "code",
   "execution_count": 367,
   "metadata": {},
   "outputs": [],
   "source": [
    "ds.drop(columns=['objid'], inplace=True)"
   ]
  },
  {
   "cell_type": "code",
   "execution_count": 368,
   "metadata": {},
   "outputs": [
    {
     "data": {
      "text/plain": [
       "Index(['ra', 'dec', 'u', 'g', 'r', 'i', 'z', 'run', 'camcol', 'field', 'class',\n",
       "       'redshift', 'plate', 'mjd', 'fiberid'],\n",
       "      dtype='object')"
      ]
     },
     "execution_count": 368,
     "metadata": {},
     "output_type": "execute_result"
    }
   ],
   "source": [
    "ds.columns"
   ]
  },
  {
   "cell_type": "code",
   "execution_count": 369,
   "metadata": {},
   "outputs": [
    {
     "name": "stdout",
     "output_type": "stream",
     "text": [
      "Before removing zscore:  (10000, 15)\n",
      "After removing zscore:  (8698, 15)\n"
     ]
    }
   ],
   "source": [
    "# Commented\n",
    "\n",
    "# Checking the 'z score' / outliers of the dataset, if present, will remove it\n",
    "from scipy.stats import zscore\n",
    "z_scr = abs(zscore(ds))\n",
    "print ('Before removing zscore: ', ds.shape)\n",
    "\n",
    "ds_final = ds.loc[(z_scr < 3).all(axis=1)]\n",
    "print (\"After removing zscore: \", ds_final.shape)"
   ]
  },
  {
   "cell_type": "code",
   "execution_count": 370,
   "metadata": {},
   "outputs": [],
   "source": [
    "# Assigning the input and output data\n",
    "df_x = ds_final.drop(columns = ['class'])\n",
    "y = ds_final['class']"
   ]
  },
  {
   "cell_type": "code",
   "execution_count": 371,
   "metadata": {},
   "outputs": [
    {
     "data": {
      "text/plain": [
       "array([2, 0, 1])"
      ]
     },
     "execution_count": 371,
     "metadata": {},
     "output_type": "execute_result"
    }
   ],
   "source": [
    "y.unique()"
   ]
  },
  {
   "cell_type": "code",
   "execution_count": 372,
   "metadata": {},
   "outputs": [],
   "source": [
    "# StandardScaler is used to scale the data\n",
    "sc = StandardScaler()\n",
    "x = sc.fit_transform(df_x)\n",
    "x = pd.DataFrame(x, columns=df_x.columns)"
   ]
  },
  {
   "cell_type": "code",
   "execution_count": 373,
   "metadata": {},
   "outputs": [
    {
     "data": {
      "text/html": [
       "<div>\n",
       "<style scoped>\n",
       "    .dataframe tbody tr th:only-of-type {\n",
       "        vertical-align: middle;\n",
       "    }\n",
       "\n",
       "    .dataframe tbody tr th {\n",
       "        vertical-align: top;\n",
       "    }\n",
       "\n",
       "    .dataframe thead th {\n",
       "        text-align: right;\n",
       "    }\n",
       "</style>\n",
       "<table border=\"1\" class=\"dataframe\">\n",
       "  <thead>\n",
       "    <tr style=\"text-align: right;\">\n",
       "      <th></th>\n",
       "      <th>ra</th>\n",
       "      <th>dec</th>\n",
       "      <th>u</th>\n",
       "      <th>g</th>\n",
       "      <th>r</th>\n",
       "      <th>i</th>\n",
       "      <th>z</th>\n",
       "      <th>run</th>\n",
       "      <th>camcol</th>\n",
       "      <th>field</th>\n",
       "      <th>redshift</th>\n",
       "      <th>plate</th>\n",
       "      <th>mjd</th>\n",
       "      <th>fiberid</th>\n",
       "    </tr>\n",
       "  </thead>\n",
       "  <tbody>\n",
       "    <tr>\n",
       "      <th>0</th>\n",
       "      <td>0.022563</td>\n",
       "      <td>-0.563207</td>\n",
       "      <td>1.076410</td>\n",
       "      <td>-0.332856</td>\n",
       "      <td>-0.855097</td>\n",
       "      <td>-0.969819</td>\n",
       "      <td>-1.007660</td>\n",
       "      <td>-0.790307</td>\n",
       "      <td>0.197332</td>\n",
       "      <td>-0.304679</td>\n",
       "      <td>-0.458367</td>\n",
       "      <td>1.637571</td>\n",
       "      <td>1.667376</td>\n",
       "      <td>0.754994</td>\n",
       "    </tr>\n",
       "    <tr>\n",
       "      <th>1</th>\n",
       "      <td>0.024421</td>\n",
       "      <td>-0.561415</td>\n",
       "      <td>0.039766</td>\n",
       "      <td>-0.134171</td>\n",
       "      <td>-0.098144</td>\n",
       "      <td>-0.009474</td>\n",
       "      <td>0.055512</td>\n",
       "      <td>-0.790307</td>\n",
       "      <td>0.197332</td>\n",
       "      <td>-0.304679</td>\n",
       "      <td>-0.458639</td>\n",
       "      <td>-0.659347</td>\n",
       "      <td>-0.883708</td>\n",
       "      <td>1.016814</td>\n",
       "    </tr>\n",
       "    <tr>\n",
       "      <th>2</th>\n",
       "      <td>0.026689</td>\n",
       "      <td>-0.561772</td>\n",
       "      <td>0.960026</td>\n",
       "      <td>0.994046</td>\n",
       "      <td>0.729930</td>\n",
       "      <td>0.573183</td>\n",
       "      <td>0.429065</td>\n",
       "      <td>-0.790307</td>\n",
       "      <td>0.197332</td>\n",
       "      <td>-0.298398</td>\n",
       "      <td>0.270060</td>\n",
       "      <td>-0.687067</td>\n",
       "      <td>-0.568969</td>\n",
       "      <td>0.870195</td>\n",
       "    </tr>\n",
       "    <tr>\n",
       "      <th>3</th>\n",
       "      <td>0.031964</td>\n",
       "      <td>-0.564770</td>\n",
       "      <td>-1.107002</td>\n",
       "      <td>-0.840484</td>\n",
       "      <td>-0.632831</td>\n",
       "      <td>-0.503275</td>\n",
       "      <td>-0.388577</td>\n",
       "      <td>-0.790307</td>\n",
       "      <td>0.197332</td>\n",
       "      <td>-0.292117</td>\n",
       "      <td>-0.458969</td>\n",
       "      <td>1.637571</td>\n",
       "      <td>1.667376</td>\n",
       "      <td>0.854486</td>\n",
       "    </tr>\n",
       "    <tr>\n",
       "      <th>4</th>\n",
       "      <td>0.032318</td>\n",
       "      <td>-0.562701</td>\n",
       "      <td>-1.381874</td>\n",
       "      <td>-1.232219</td>\n",
       "      <td>-0.344809</td>\n",
       "      <td>0.054530</td>\n",
       "      <td>0.257682</td>\n",
       "      <td>-0.790307</td>\n",
       "      <td>0.197332</td>\n",
       "      <td>-0.292117</td>\n",
       "      <td>-0.454822</td>\n",
       "      <td>1.637571</td>\n",
       "      <td>1.667376</td>\n",
       "      <td>0.864958</td>\n",
       "    </tr>\n",
       "  </tbody>\n",
       "</table>\n",
       "</div>"
      ],
      "text/plain": [
       "         ra       dec         u         g         r         i         z  \\\n",
       "0  0.022563 -0.563207  1.076410 -0.332856 -0.855097 -0.969819 -1.007660   \n",
       "1  0.024421 -0.561415  0.039766 -0.134171 -0.098144 -0.009474  0.055512   \n",
       "2  0.026689 -0.561772  0.960026  0.994046  0.729930  0.573183  0.429065   \n",
       "3  0.031964 -0.564770 -1.107002 -0.840484 -0.632831 -0.503275 -0.388577   \n",
       "4  0.032318 -0.562701 -1.381874 -1.232219 -0.344809  0.054530  0.257682   \n",
       "\n",
       "        run    camcol     field  redshift     plate       mjd   fiberid  \n",
       "0 -0.790307  0.197332 -0.304679 -0.458367  1.637571  1.667376  0.754994  \n",
       "1 -0.790307  0.197332 -0.304679 -0.458639 -0.659347 -0.883708  1.016814  \n",
       "2 -0.790307  0.197332 -0.298398  0.270060 -0.687067 -0.568969  0.870195  \n",
       "3 -0.790307  0.197332 -0.292117 -0.458969  1.637571  1.667376  0.854486  \n",
       "4 -0.790307  0.197332 -0.292117 -0.454822  1.637571  1.667376  0.864958  "
      ]
     },
     "execution_count": 373,
     "metadata": {},
     "output_type": "execute_result"
    }
   ],
   "source": [
    "x.head()"
   ]
  },
  {
   "cell_type": "code",
   "execution_count": 374,
   "metadata": {},
   "outputs": [
    {
     "data": {
      "text/plain": [
       "((8698, 14), (8698,))"
      ]
     },
     "execution_count": 374,
     "metadata": {},
     "output_type": "execute_result"
    }
   ],
   "source": [
    "(x.shape, y.shape)"
   ]
  },
  {
   "cell_type": "code",
   "execution_count": 375,
   "metadata": {},
   "outputs": [
    {
     "data": {
      "text/plain": [
       "ra         -0.130951\n",
       "dec         1.212911\n",
       "u          -0.981103\n",
       "g          -0.528033\n",
       "r          -0.153454\n",
       "i           0.055966\n",
       "z           0.167256\n",
       "run         0.518602\n",
       "camcol     -0.141193\n",
       "field       0.220032\n",
       "redshift    4.951700\n",
       "plate       1.320088\n",
       "mjd         0.963989\n",
       "fiberid     0.065374\n",
       "dtype: float64"
      ]
     },
     "execution_count": 375,
     "metadata": {},
     "output_type": "execute_result"
    }
   ],
   "source": [
    "x.skew()"
   ]
  },
  {
   "cell_type": "code",
   "execution_count": 376,
   "metadata": {},
   "outputs": [],
   "source": [
    "# Remove skewness \n",
    "for col in x.columns:\n",
    "    if x.skew().loc[col] > 0.55:\n",
    "        x[col] = np.sqrt(x[col])"
   ]
  },
  {
   "cell_type": "code",
   "execution_count": 377,
   "metadata": {},
   "outputs": [
    {
     "data": {
      "text/plain": [
       "ra         -0.130951\n",
       "dec        -1.131476\n",
       "u          -0.981103\n",
       "g          -0.528033\n",
       "r          -0.153454\n",
       "i           0.055966\n",
       "z           0.167256\n",
       "run         0.518602\n",
       "camcol     -0.141193\n",
       "field       0.220032\n",
       "redshift    2.196229\n",
       "plate       1.743700\n",
       "mjd         0.059860\n",
       "fiberid     0.065374\n",
       "dtype: float64"
      ]
     },
     "execution_count": 377,
     "metadata": {},
     "output_type": "execute_result"
    }
   ],
   "source": [
    "x.skew()"
   ]
  },
  {
   "cell_type": "code",
   "execution_count": 378,
   "metadata": {},
   "outputs": [],
   "source": [
    "# Remove skewness \n",
    "for col in x.columns:\n",
    "    if x.skew().loc[col] > 0.55:\n",
    "        x[col] = np.sqrt(x[col])"
   ]
  },
  {
   "cell_type": "code",
   "execution_count": 379,
   "metadata": {},
   "outputs": [
    {
     "data": {
      "text/plain": [
       "ra         -0.130951\n",
       "dec        -1.131476\n",
       "u          -0.981103\n",
       "g          -0.528033\n",
       "r          -0.153454\n",
       "i           0.055966\n",
       "z           0.167256\n",
       "run         0.518602\n",
       "camcol     -0.141193\n",
       "field       0.220032\n",
       "redshift    1.431023\n",
       "plate       1.256741\n",
       "mjd         0.059860\n",
       "fiberid     0.065374\n",
       "dtype: float64"
      ]
     },
     "execution_count": 379,
     "metadata": {},
     "output_type": "execute_result"
    }
   ],
   "source": [
    "x.skew()"
   ]
  },
  {
   "cell_type": "code",
   "execution_count": 380,
   "metadata": {},
   "outputs": [],
   "source": [
    "# Remove skewness \n",
    "for col in x.columns:\n",
    "    if x.skew().loc[col] > 0.55:\n",
    "        x[col] = np.sqrt(x[col])"
   ]
  },
  {
   "cell_type": "code",
   "execution_count": 381,
   "metadata": {},
   "outputs": [
    {
     "data": {
      "text/plain": [
       "ra         -0.130951\n",
       "dec        -1.131476\n",
       "u          -0.981103\n",
       "g          -0.528033\n",
       "r          -0.153454\n",
       "i           0.055966\n",
       "z           0.167256\n",
       "run         0.518602\n",
       "camcol     -0.141193\n",
       "field       0.220032\n",
       "redshift    0.857918\n",
       "plate       1.020113\n",
       "mjd         0.059860\n",
       "fiberid     0.065374\n",
       "dtype: float64"
      ]
     },
     "execution_count": 381,
     "metadata": {},
     "output_type": "execute_result"
    }
   ],
   "source": [
    "x.skew()"
   ]
  },
  {
   "cell_type": "code",
   "execution_count": 382,
   "metadata": {},
   "outputs": [
    {
     "data": {
      "text/html": [
       "<div>\n",
       "<style scoped>\n",
       "    .dataframe tbody tr th:only-of-type {\n",
       "        vertical-align: middle;\n",
       "    }\n",
       "\n",
       "    .dataframe tbody tr th {\n",
       "        vertical-align: top;\n",
       "    }\n",
       "\n",
       "    .dataframe thead th {\n",
       "        text-align: right;\n",
       "    }\n",
       "</style>\n",
       "<table border=\"1\" class=\"dataframe\">\n",
       "  <thead>\n",
       "    <tr style=\"text-align: right;\">\n",
       "      <th></th>\n",
       "      <th>ra</th>\n",
       "      <th>dec</th>\n",
       "      <th>u</th>\n",
       "      <th>g</th>\n",
       "      <th>r</th>\n",
       "      <th>i</th>\n",
       "      <th>z</th>\n",
       "      <th>run</th>\n",
       "      <th>camcol</th>\n",
       "      <th>field</th>\n",
       "      <th>redshift</th>\n",
       "      <th>plate</th>\n",
       "      <th>mjd</th>\n",
       "      <th>fiberid</th>\n",
       "    </tr>\n",
       "  </thead>\n",
       "  <tbody>\n",
       "    <tr>\n",
       "      <th>0</th>\n",
       "      <td>0.022563</td>\n",
       "      <td>NaN</td>\n",
       "      <td>1.076410</td>\n",
       "      <td>-0.332856</td>\n",
       "      <td>-0.855097</td>\n",
       "      <td>-0.969819</td>\n",
       "      <td>-1.007660</td>\n",
       "      <td>-0.790307</td>\n",
       "      <td>0.197332</td>\n",
       "      <td>-0.304679</td>\n",
       "      <td>NaN</td>\n",
       "      <td>1.063592</td>\n",
       "      <td>1.291269</td>\n",
       "      <td>0.754994</td>\n",
       "    </tr>\n",
       "    <tr>\n",
       "      <th>1</th>\n",
       "      <td>0.024421</td>\n",
       "      <td>NaN</td>\n",
       "      <td>0.039766</td>\n",
       "      <td>-0.134171</td>\n",
       "      <td>-0.098144</td>\n",
       "      <td>-0.009474</td>\n",
       "      <td>0.055512</td>\n",
       "      <td>-0.790307</td>\n",
       "      <td>0.197332</td>\n",
       "      <td>-0.304679</td>\n",
       "      <td>NaN</td>\n",
       "      <td>NaN</td>\n",
       "      <td>NaN</td>\n",
       "      <td>1.016814</td>\n",
       "    </tr>\n",
       "    <tr>\n",
       "      <th>2</th>\n",
       "      <td>0.026689</td>\n",
       "      <td>NaN</td>\n",
       "      <td>0.960026</td>\n",
       "      <td>0.994046</td>\n",
       "      <td>0.729930</td>\n",
       "      <td>0.573183</td>\n",
       "      <td>0.429065</td>\n",
       "      <td>-0.790307</td>\n",
       "      <td>0.197332</td>\n",
       "      <td>-0.298398</td>\n",
       "      <td>0.849049</td>\n",
       "      <td>NaN</td>\n",
       "      <td>NaN</td>\n",
       "      <td>0.870195</td>\n",
       "    </tr>\n",
       "    <tr>\n",
       "      <th>3</th>\n",
       "      <td>0.031964</td>\n",
       "      <td>NaN</td>\n",
       "      <td>-1.107002</td>\n",
       "      <td>-0.840484</td>\n",
       "      <td>-0.632831</td>\n",
       "      <td>-0.503275</td>\n",
       "      <td>-0.388577</td>\n",
       "      <td>-0.790307</td>\n",
       "      <td>0.197332</td>\n",
       "      <td>-0.292117</td>\n",
       "      <td>NaN</td>\n",
       "      <td>1.063592</td>\n",
       "      <td>1.291269</td>\n",
       "      <td>0.854486</td>\n",
       "    </tr>\n",
       "    <tr>\n",
       "      <th>4</th>\n",
       "      <td>0.032318</td>\n",
       "      <td>NaN</td>\n",
       "      <td>-1.381874</td>\n",
       "      <td>-1.232219</td>\n",
       "      <td>-0.344809</td>\n",
       "      <td>0.054530</td>\n",
       "      <td>0.257682</td>\n",
       "      <td>-0.790307</td>\n",
       "      <td>0.197332</td>\n",
       "      <td>-0.292117</td>\n",
       "      <td>NaN</td>\n",
       "      <td>1.063592</td>\n",
       "      <td>1.291269</td>\n",
       "      <td>0.864958</td>\n",
       "    </tr>\n",
       "  </tbody>\n",
       "</table>\n",
       "</div>"
      ],
      "text/plain": [
       "         ra  dec         u         g         r         i         z       run  \\\n",
       "0  0.022563  NaN  1.076410 -0.332856 -0.855097 -0.969819 -1.007660 -0.790307   \n",
       "1  0.024421  NaN  0.039766 -0.134171 -0.098144 -0.009474  0.055512 -0.790307   \n",
       "2  0.026689  NaN  0.960026  0.994046  0.729930  0.573183  0.429065 -0.790307   \n",
       "3  0.031964  NaN -1.107002 -0.840484 -0.632831 -0.503275 -0.388577 -0.790307   \n",
       "4  0.032318  NaN -1.381874 -1.232219 -0.344809  0.054530  0.257682 -0.790307   \n",
       "\n",
       "     camcol     field  redshift     plate       mjd   fiberid  \n",
       "0  0.197332 -0.304679       NaN  1.063592  1.291269  0.754994  \n",
       "1  0.197332 -0.304679       NaN       NaN       NaN  1.016814  \n",
       "2  0.197332 -0.298398  0.849049       NaN       NaN  0.870195  \n",
       "3  0.197332 -0.292117       NaN  1.063592  1.291269  0.854486  \n",
       "4  0.197332 -0.292117       NaN  1.063592  1.291269  0.864958  "
      ]
     },
     "execution_count": 382,
     "metadata": {},
     "output_type": "execute_result"
    }
   ],
   "source": [
    "x.head()"
   ]
  },
  {
   "cell_type": "code",
   "execution_count": 383,
   "metadata": {},
   "outputs": [],
   "source": [
    "x.replace(np.NaN, 0, inplace=True)"
   ]
  },
  {
   "cell_type": "code",
   "execution_count": 384,
   "metadata": {},
   "outputs": [
    {
     "data": {
      "text/html": [
       "<div>\n",
       "<style scoped>\n",
       "    .dataframe tbody tr th:only-of-type {\n",
       "        vertical-align: middle;\n",
       "    }\n",
       "\n",
       "    .dataframe tbody tr th {\n",
       "        vertical-align: top;\n",
       "    }\n",
       "\n",
       "    .dataframe thead th {\n",
       "        text-align: right;\n",
       "    }\n",
       "</style>\n",
       "<table border=\"1\" class=\"dataframe\">\n",
       "  <thead>\n",
       "    <tr style=\"text-align: right;\">\n",
       "      <th></th>\n",
       "      <th>ra</th>\n",
       "      <th>dec</th>\n",
       "      <th>u</th>\n",
       "      <th>g</th>\n",
       "      <th>r</th>\n",
       "      <th>i</th>\n",
       "      <th>z</th>\n",
       "      <th>run</th>\n",
       "      <th>camcol</th>\n",
       "      <th>field</th>\n",
       "      <th>redshift</th>\n",
       "      <th>plate</th>\n",
       "      <th>mjd</th>\n",
       "      <th>fiberid</th>\n",
       "    </tr>\n",
       "  </thead>\n",
       "  <tbody>\n",
       "    <tr>\n",
       "      <th>0</th>\n",
       "      <td>0.022563</td>\n",
       "      <td>0.0</td>\n",
       "      <td>1.076410</td>\n",
       "      <td>-0.332856</td>\n",
       "      <td>-0.855097</td>\n",
       "      <td>-0.969819</td>\n",
       "      <td>-1.007660</td>\n",
       "      <td>-0.790307</td>\n",
       "      <td>0.197332</td>\n",
       "      <td>-0.304679</td>\n",
       "      <td>0.000000</td>\n",
       "      <td>1.063592</td>\n",
       "      <td>1.291269</td>\n",
       "      <td>0.754994</td>\n",
       "    </tr>\n",
       "    <tr>\n",
       "      <th>1</th>\n",
       "      <td>0.024421</td>\n",
       "      <td>0.0</td>\n",
       "      <td>0.039766</td>\n",
       "      <td>-0.134171</td>\n",
       "      <td>-0.098144</td>\n",
       "      <td>-0.009474</td>\n",
       "      <td>0.055512</td>\n",
       "      <td>-0.790307</td>\n",
       "      <td>0.197332</td>\n",
       "      <td>-0.304679</td>\n",
       "      <td>0.000000</td>\n",
       "      <td>0.000000</td>\n",
       "      <td>0.000000</td>\n",
       "      <td>1.016814</td>\n",
       "    </tr>\n",
       "    <tr>\n",
       "      <th>2</th>\n",
       "      <td>0.026689</td>\n",
       "      <td>0.0</td>\n",
       "      <td>0.960026</td>\n",
       "      <td>0.994046</td>\n",
       "      <td>0.729930</td>\n",
       "      <td>0.573183</td>\n",
       "      <td>0.429065</td>\n",
       "      <td>-0.790307</td>\n",
       "      <td>0.197332</td>\n",
       "      <td>-0.298398</td>\n",
       "      <td>0.849049</td>\n",
       "      <td>0.000000</td>\n",
       "      <td>0.000000</td>\n",
       "      <td>0.870195</td>\n",
       "    </tr>\n",
       "    <tr>\n",
       "      <th>3</th>\n",
       "      <td>0.031964</td>\n",
       "      <td>0.0</td>\n",
       "      <td>-1.107002</td>\n",
       "      <td>-0.840484</td>\n",
       "      <td>-0.632831</td>\n",
       "      <td>-0.503275</td>\n",
       "      <td>-0.388577</td>\n",
       "      <td>-0.790307</td>\n",
       "      <td>0.197332</td>\n",
       "      <td>-0.292117</td>\n",
       "      <td>0.000000</td>\n",
       "      <td>1.063592</td>\n",
       "      <td>1.291269</td>\n",
       "      <td>0.854486</td>\n",
       "    </tr>\n",
       "    <tr>\n",
       "      <th>4</th>\n",
       "      <td>0.032318</td>\n",
       "      <td>0.0</td>\n",
       "      <td>-1.381874</td>\n",
       "      <td>-1.232219</td>\n",
       "      <td>-0.344809</td>\n",
       "      <td>0.054530</td>\n",
       "      <td>0.257682</td>\n",
       "      <td>-0.790307</td>\n",
       "      <td>0.197332</td>\n",
       "      <td>-0.292117</td>\n",
       "      <td>0.000000</td>\n",
       "      <td>1.063592</td>\n",
       "      <td>1.291269</td>\n",
       "      <td>0.864958</td>\n",
       "    </tr>\n",
       "  </tbody>\n",
       "</table>\n",
       "</div>"
      ],
      "text/plain": [
       "         ra  dec         u         g         r         i         z       run  \\\n",
       "0  0.022563  0.0  1.076410 -0.332856 -0.855097 -0.969819 -1.007660 -0.790307   \n",
       "1  0.024421  0.0  0.039766 -0.134171 -0.098144 -0.009474  0.055512 -0.790307   \n",
       "2  0.026689  0.0  0.960026  0.994046  0.729930  0.573183  0.429065 -0.790307   \n",
       "3  0.031964  0.0 -1.107002 -0.840484 -0.632831 -0.503275 -0.388577 -0.790307   \n",
       "4  0.032318  0.0 -1.381874 -1.232219 -0.344809  0.054530  0.257682 -0.790307   \n",
       "\n",
       "     camcol     field  redshift     plate       mjd   fiberid  \n",
       "0  0.197332 -0.304679  0.000000  1.063592  1.291269  0.754994  \n",
       "1  0.197332 -0.304679  0.000000  0.000000  0.000000  1.016814  \n",
       "2  0.197332 -0.298398  0.849049  0.000000  0.000000  0.870195  \n",
       "3  0.197332 -0.292117  0.000000  1.063592  1.291269  0.854486  \n",
       "4  0.197332 -0.292117  0.000000  1.063592  1.291269  0.864958  "
      ]
     },
     "execution_count": 384,
     "metadata": {},
     "output_type": "execute_result"
    }
   ],
   "source": [
    "x.head()"
   ]
  },
  {
   "cell_type": "markdown",
   "metadata": {},
   "source": [
    "# Classification algorithm for dataset: with target column 'class'"
   ]
  },
  {
   "cell_type": "code",
   "execution_count": 385,
   "metadata": {},
   "outputs": [],
   "source": [
    "# Subroutine to get the best random state with maximum accuracy score\n",
    "\n",
    "def max_acu_score (regr, x, y):\n",
    "    max_acu_score = 0\n",
    "    for r_state in range (42, 100):\n",
    "\n",
    "        x_train, x_test, y_train, y_test = train_test_split(x, y, random_state=r_state, test_size=.20)\n",
    "\n",
    "        regr.fit(x_train, y_train)\n",
    "        y_pred = regr.predict(x_test)\n",
    "        acu_scr = accuracy_score(y_test, y_pred)\n",
    "\n",
    "\n",
    "        #print (\"\\n accuracy score corresponding to state: \", r_state, \" is: \", acu_scr)\n",
    "        if (acu_scr > max_acu_score):\n",
    "            max_acu_score = acu_scr\n",
    "            final_r_state = r_state\n",
    "    print (\"\\nMax accuracy score corresponding to \", final_r_state, \" is: \", max_acu_score)\n",
    "    return final_r_state"
   ]
  },
  {
   "cell_type": "code",
   "execution_count": 386,
   "metadata": {},
   "outputs": [],
   "source": [
    "from sklearn.neighbors import KNeighborsClassifier\n",
    "from sklearn.svm import SVC\n",
    "from sklearn.tree import DecisionTreeClassifier\n",
    "from sklearn.ensemble import RandomForestClassifier"
   ]
  },
  {
   "cell_type": "code",
   "execution_count": 387,
   "metadata": {},
   "outputs": [],
   "source": [
    "KNN = KNeighborsClassifier()\n",
    "SV = SVC()\n",
    "DT = DecisionTreeClassifier()\n",
    "RFC = RandomForestClassifier()"
   ]
  },
  {
   "cell_type": "code",
   "execution_count": 388,
   "metadata": {},
   "outputs": [],
   "source": [
    "models = []\n",
    "models.append(('KNeighborsClassifier', KNN))\n",
    "models.append(('SVC', SV))\n",
    "models.append(('DecisionTraeeClassifier', DT))\n",
    "models.append(('RandomForestClassifier', RFC))"
   ]
  },
  {
   "cell_type": "code",
   "execution_count": 389,
   "metadata": {},
   "outputs": [
    {
     "name": "stdout",
     "output_type": "stream",
     "text": [
      "****************** KNeighborsClassifier *********************\n",
      "\n",
      "\n",
      "\n",
      "Max accuracy score corresponding to  58  is:  0.9063218390804598\n",
      "KNeighborsClassifier(algorithm='auto', leaf_size=30, metric='minkowski',\n",
      "                     metric_params=None, n_jobs=None, n_neighbors=5, p=2,\n",
      "                     weights='uniform')\n",
      "Predicted values:  [2 2 2 ... 0 0 0]\n",
      "\n",
      "\n",
      "Accuracy score:  0.9063218390804598\n",
      "\n",
      "\n",
      "cross val score:  0.8825055884025768\n",
      "\n",
      "\n",
      "[0.         0.40361446 0.4060241  1.        ] [0.     0.075  0.8625 1.    ] [3 2 1 0]\n",
      "roc auc score:  0.5694051204819277\n",
      "\n",
      "\n",
      "classification report:                precision    recall  f1-score   support\n",
      "\n",
      "           0       0.90      0.94      0.92       963\n",
      "           1       0.94      0.79      0.86        80\n",
      "           2       0.91      0.88      0.89       697\n",
      "\n",
      "    accuracy                           0.91      1740\n",
      "   macro avg       0.92      0.87      0.89      1740\n",
      "weighted avg       0.91      0.91      0.91      1740\n",
      "\n",
      "\n",
      "\n",
      "[[902   3  58]\n",
      " [ 11  63   6]\n",
      " [ 84   1 612]]\n",
      "\n",
      "\n",
      "AxesSubplot(0.125,0.808774;0.62x0.0712264)\n",
      "\n",
      "\n",
      "\n",
      "****************** SVC *********************\n",
      "\n",
      "\n",
      "\n",
      "Max accuracy score corresponding to  59  is:  0.9454022988505747\n",
      "SVC(C=1.0, break_ties=False, cache_size=200, class_weight=None, coef0=0.0,\n",
      "    decision_function_shape='ovr', degree=3, gamma='scale', kernel='rbf',\n",
      "    max_iter=-1, probability=False, random_state=None, shrinking=True,\n",
      "    tol=0.001, verbose=False)\n",
      "Predicted values:  [2 0 2 ... 2 2 0]\n",
      "\n",
      "\n",
      "Accuracy score:  0.9454022988505747\n",
      "\n",
      "\n",
      "cross val score:  0.9341260267449705\n",
      "\n",
      "\n",
      "[0.         0.42256903 0.42376951 1.        ] [0.         0.02702703 0.89189189 1.        ] [3 2 1 0]\n",
      "roc auc score:  0.5513448622692321\n",
      "\n",
      "\n",
      "classification report:                precision    recall  f1-score   support\n",
      "\n",
      "           0       0.94      0.97      0.95       939\n",
      "           1       0.97      0.86      0.91        74\n",
      "           2       0.95      0.93      0.94       727\n",
      "\n",
      "    accuracy                           0.95      1740\n",
      "   macro avg       0.95      0.92      0.94      1740\n",
      "weighted avg       0.95      0.95      0.95      1740\n",
      "\n",
      "\n",
      "\n",
      "[[907   2  30]\n",
      " [  8  64   2]\n",
      " [ 53   0 674]]\n",
      "\n",
      "\n",
      "AxesSubplot(0.125,0.808774;0.62x0.0712264)\n",
      "\n",
      "\n",
      "\n",
      "****************** DecisionTraeeClassifier *********************\n",
      "\n",
      "\n",
      "\n",
      "Max accuracy score corresponding to  86  is:  0.9379310344827586\n",
      "DecisionTreeClassifier(ccp_alpha=0.0, class_weight=None, criterion='gini',\n",
      "                       max_depth=None, max_features=None, max_leaf_nodes=None,\n",
      "                       min_impurity_decrease=0.0, min_impurity_split=None,\n",
      "                       min_samples_leaf=1, min_samples_split=2,\n",
      "                       min_weight_fraction_leaf=0.0, presort='deprecated',\n",
      "                       random_state=None, splitter='best')\n",
      "Predicted values:  [0 2 0 ... 0 2 2]\n",
      "\n",
      "\n",
      "Accuracy score:  0.9373563218390805\n",
      "\n",
      "\n",
      "cross val score:  0.9234335939050038\n",
      "\n",
      "\n",
      "[0.         0.44021739 0.44565217 1.        ] [0.         0.01190476 0.94047619 1.        ] [3 2 1 0]\n",
      "roc auc score:  0.543057712215321\n",
      "\n",
      "\n",
      "classification report:                precision    recall  f1-score   support\n",
      "\n",
      "           0       0.95      0.94      0.94       935\n",
      "           1       0.90      0.93      0.91        84\n",
      "           2       0.93      0.94      0.93       721\n",
      "\n",
      "    accuracy                           0.94      1740\n",
      "   macro avg       0.92      0.93      0.93      1740\n",
      "weighted avg       0.94      0.94      0.94      1740\n",
      "\n",
      "\n",
      "\n",
      "[[875   9  51]\n",
      " [  5  78   1]\n",
      " [ 43   0 678]]\n",
      "\n",
      "\n",
      "AxesSubplot(0.125,0.808774;0.62x0.0712264)\n",
      "\n",
      "\n",
      "\n",
      "****************** RandomForestClassifier *********************\n",
      "\n",
      "\n",
      "\n",
      "Max accuracy score corresponding to  74  is:  0.9522988505747126\n",
      "RandomForestClassifier(bootstrap=True, ccp_alpha=0.0, class_weight=None,\n",
      "                       criterion='gini', max_depth=None, max_features='auto',\n",
      "                       max_leaf_nodes=None, max_samples=None,\n",
      "                       min_impurity_decrease=0.0, min_impurity_split=None,\n",
      "                       min_samples_leaf=1, min_samples_split=2,\n",
      "                       min_weight_fraction_leaf=0.0, n_estimators=100,\n",
      "                       n_jobs=None, oob_score=False, random_state=None,\n",
      "                       verbose=0, warm_start=False)\n",
      "Predicted values:  [0 0 0 ... 2 0 2]\n",
      "\n",
      "\n",
      "Accuracy score:  0.95\n",
      "\n",
      "\n",
      "cross val score:  0.9366554237265717\n",
      "\n",
      "\n",
      "[0.         0.40096038 0.40336134 1.        ] [0.         0.         0.90540541 1.        ] [3 2 1 0]\n",
      "roc auc score:  0.5695061808507186\n",
      "\n",
      "\n",
      "classification report:                precision    recall  f1-score   support\n",
      "\n",
      "           0       0.95      0.97      0.96       982\n",
      "           1       0.94      0.91      0.92        74\n",
      "           2       0.96      0.93      0.94       684\n",
      "\n",
      "    accuracy                           0.95      1740\n",
      "   macro avg       0.95      0.93      0.94      1740\n",
      "weighted avg       0.95      0.95      0.95      1740\n",
      "\n",
      "\n",
      "\n",
      "[[948   4  30]\n",
      " [  7  67   0]\n",
      " [ 46   0 638]]\n",
      "\n",
      "\n",
      "AxesSubplot(0.125,0.808774;0.62x0.0712264)\n",
      "\n",
      "\n",
      "\n"
     ]
    },
    {
     "data": {
      "image/png": "[encoded data removed]",
      "text/plain": [
       "<Figure size 720x2880 with 3 Axes>"
      ]
     },
     "metadata": {
      "needs_background": "light"
     },
     "output_type": "display_data"
    },
    {
     "data": {
      "image/png": "[encoded data removed]",
      "text/plain": [
       "<Figure size 720x2880 with 3 Axes>"
      ]
     },
     "metadata": {
      "needs_background": "light"
     },
     "output_type": "display_data"
    },
    {
     "data": {
      "image/png": "[encoded data removed]",
      "text/plain": [
       "<Figure size 720x2880 with 3 Axes>"
      ]
     },
     "metadata": {
      "needs_background": "light"
     },
     "output_type": "display_data"
    },
    {
     "data": {
      "image/png": "[encoded data removed]",
      "text/plain": [
       "<Figure size 720x2880 with 3 Axes>"
      ]
     },
     "metadata": {
      "needs_background": "light"
     },
     "output_type": "display_data"
    }
   ],
   "source": [
    "Model = []\n",
    "score = []\n",
    "cvs = []\n",
    "rocscore = []\n",
    "rstate = []\n",
    "\n",
    "for name, model in models:    \n",
    "    print ('******************', name , '*********************')\n",
    "    print (\"\\n\")\n",
    "    \n",
    "    model_state = max_acu_score(model, x, y)\n",
    "    rstate.append(model_state)\n",
    "    \n",
    "    x_train, x_test, y_train, y_test = train_test_split(x, y, random_state = model_state, test_size = .20)\n",
    "    \n",
    "    Model.append(name)\n",
    "    model.fit (x_train, y_train)\n",
    "    print (model)\n",
    "    \n",
    "    pre = model.predict(x_test)\n",
    "    print (\"Predicted values: \", pre)\n",
    "    print ('\\n')\n",
    "    \n",
    "    AS = accuracy_score(y_test, pre)\n",
    "    print (\"Accuracy score: \", AS)\n",
    "    score.append (AS*100)\n",
    "    print ('\\n')\n",
    "    \n",
    "    sc = cross_val_score(model, x, y, cv =10, scoring='accuracy').mean()\n",
    "    print (\"cross val score: \", sc)    \n",
    "    cvs.append(sc*100)\n",
    "    print ('\\n')\n",
    "    \n",
    "    fpr, tpr, thresholds = roc_curve(y_test, pre, pos_label=1)\n",
    "    print (fpr, tpr, thresholds)\n",
    "    roc_auc = auc(fpr, tpr)\n",
    "    print (\"roc auc score: \", roc_auc)\n",
    "    rocscore.append(roc_auc * 100)\n",
    "    print ('\\n')\n",
    "    \n",
    "    print (\"classification report: \", classification_report (y_test, pre) )\n",
    "    print ('\\n')\n",
    "    \n",
    "    cm = confusion_matrix(y_test, pre)\n",
    "    print (cm)\n",
    "    print ('\\n')\n",
    "    \n",
    "    plt.figure(figsize=(10,40))\n",
    "    plt.subplot(911)\n",
    "    plt.title(name)\n",
    "    print (sns.heatmap(cm, annot=True))\n",
    "     \n",
    "    plt.subplot(912)\n",
    "    plt.title(name)\n",
    "    plt.plot(fpr, tpr, label='AUC = %0.2f'%(roc_auc))\n",
    "    plt.plot ([0,1], [0,1], 'r--')\n",
    "    plt.legend(loc = 'lower right')\n",
    "    plt.ylabel('True Positive Rate')\n",
    "    plt.xlabel('False Positive Rate')\n",
    "    print ('\\n\\n')"
   ]
  },
  {
   "cell_type": "code",
   "execution_count": null,
   "metadata": {},
   "outputs": [],
   "source": []
  },
  {
   "cell_type": "code",
   "execution_count": 390,
   "metadata": {},
   "outputs": [
    {
     "data": {
      "text/html": [
       "<div>\n",
       "<style scoped>\n",
       "    .dataframe tbody tr th:only-of-type {\n",
       "        vertical-align: middle;\n",
       "    }\n",
       "\n",
       "    .dataframe tbody tr th {\n",
       "        vertical-align: top;\n",
       "    }\n",
       "\n",
       "    .dataframe thead th {\n",
       "        text-align: right;\n",
       "    }\n",
       "</style>\n",
       "<table border=\"1\" class=\"dataframe\">\n",
       "  <thead>\n",
       "    <tr style=\"text-align: right;\">\n",
       "      <th></th>\n",
       "      <th>Model</th>\n",
       "      <th>Accuracy_Score</th>\n",
       "      <th>Cross Val Score</th>\n",
       "      <th>ROC_AUC_Curve</th>\n",
       "      <th>RandomState</th>\n",
       "    </tr>\n",
       "  </thead>\n",
       "  <tbody>\n",
       "    <tr>\n",
       "      <th>0</th>\n",
       "      <td>KNeighborsClassifier</td>\n",
       "      <td>90.632184</td>\n",
       "      <td>88.250559</td>\n",
       "      <td>56.940512</td>\n",
       "      <td>58</td>\n",
       "    </tr>\n",
       "    <tr>\n",
       "      <th>1</th>\n",
       "      <td>SVC</td>\n",
       "      <td>94.540230</td>\n",
       "      <td>93.412603</td>\n",
       "      <td>55.134486</td>\n",
       "      <td>59</td>\n",
       "    </tr>\n",
       "    <tr>\n",
       "      <th>2</th>\n",
       "      <td>DecisionTraeeClassifier</td>\n",
       "      <td>93.735632</td>\n",
       "      <td>92.343359</td>\n",
       "      <td>54.305771</td>\n",
       "      <td>86</td>\n",
       "    </tr>\n",
       "    <tr>\n",
       "      <th>3</th>\n",
       "      <td>RandomForestClassifier</td>\n",
       "      <td>95.000000</td>\n",
       "      <td>93.665542</td>\n",
       "      <td>56.950618</td>\n",
       "      <td>74</td>\n",
       "    </tr>\n",
       "  </tbody>\n",
       "</table>\n",
       "</div>"
      ],
      "text/plain": [
       "                     Model  Accuracy_Score  Cross Val Score  ROC_AUC_Curve  \\\n",
       "0     KNeighborsClassifier       90.632184        88.250559      56.940512   \n",
       "1                      SVC       94.540230        93.412603      55.134486   \n",
       "2  DecisionTraeeClassifier       93.735632        92.343359      54.305771   \n",
       "3   RandomForestClassifier       95.000000        93.665542      56.950618   \n",
       "\n",
       "   RandomState  \n",
       "0           58  \n",
       "1           59  \n",
       "2           86  \n",
       "3           74  "
      ]
     },
     "execution_count": 390,
     "metadata": {},
     "output_type": "execute_result"
    }
   ],
   "source": [
    "# Displaying teh data in tabular form\n",
    "result = pd.DataFrame({'Model': Model, 'Accuracy_Score': score, 'Cross Val Score' : cvs, 'ROC_AUC_Curve': rocscore, 'RandomState': rstate })\n",
    "result"
   ]
  },
  {
   "cell_type": "code",
   "execution_count": 391,
   "metadata": {},
   "outputs": [],
   "source": [
    "#Using the best model for gridsearchcv\n",
    "\n",
    "parameters = { 'n_estimators' : [50, 100, 150, 200, 250, 300], 'max_features' : ['auto', 'sqrt', 'log2'],\n",
    "             'max_depth' : [4,5,6,7,8], 'criterion' : ['gini', 'entropy']}\n",
    "\n",
    "gsc = GridSearchCV(estimator = RFC, param_grid = parameters, cv=10)"
   ]
  },
  {
   "cell_type": "code",
   "execution_count": 392,
   "metadata": {},
   "outputs": [
    {
     "data": {
      "text/plain": [
       "GridSearchCV(cv=10, error_score=nan,\n",
       "             estimator=RandomForestClassifier(bootstrap=True, ccp_alpha=0.0,\n",
       "                                              class_weight=None,\n",
       "                                              criterion='gini', max_depth=None,\n",
       "                                              max_features='auto',\n",
       "                                              max_leaf_nodes=None,\n",
       "                                              max_samples=None,\n",
       "                                              min_impurity_decrease=0.0,\n",
       "                                              min_impurity_split=None,\n",
       "                                              min_samples_leaf=1,\n",
       "                                              min_samples_split=2,\n",
       "                                              min_weight_fraction_leaf=0.0,\n",
       "                                              n_estimators=100, n_jobs=None,\n",
       "                                              oob_score=False,\n",
       "                                              random_state=None, verbose=0,\n",
       "                                              warm_start=False),\n",
       "             iid='deprecated', n_jobs=None,\n",
       "             param_grid={'criterion': ['gini', 'entropy'],\n",
       "                         'max_depth': [4, 5, 6, 7, 8],\n",
       "                         'max_features': ['auto', 'sqrt', 'log2'],\n",
       "                         'n_estimators': [50, 100, 150, 200, 250, 300]},\n",
       "             pre_dispatch='2*n_jobs', refit=True, return_train_score=False,\n",
       "             scoring=None, verbose=0)"
      ]
     },
     "execution_count": 392,
     "metadata": {},
     "output_type": "execute_result"
    }
   ],
   "source": [
    "gsc"
   ]
  },
  {
   "cell_type": "code",
   "execution_count": 393,
   "metadata": {},
   "outputs": [
    {
     "name": "stdout",
     "output_type": "stream",
     "text": [
      "[0 0 0 ... 0 0 0]\n"
     ]
    }
   ],
   "source": [
    "x_train, x_test, y_train, y_test = train_test_split(x, y, random_state=74, test_size = 0.20)\n",
    "rfc = RandomForestClassifier(n_estimators=100, max_features='auto', max_depth=None, criterion='gini' )\n",
    "rfc.fit(x_train, y_train)\n",
    "y_pred =  rfc.predict(x_test)\n",
    "print (y_pred)"
   ]
  },
  {
   "cell_type": "markdown",
   "metadata": {},
   "source": [
    "The data consists of 10000 observations of space taken by the SDSS. Every observation is described by 17 features \n",
    "columns and 1 class column which identifies it to be either a star, galaxy or quasar"
   ]
  },
  {
   "cell_type": "code",
   "execution_count": 394,
   "metadata": {},
   "outputs": [],
   "source": [
    "# Saving the predicted values in csv files\n",
    "dft = pd.DataFrame(y_pred)\n",
    "dft.to_csv ('pred_space.csv')"
   ]
  },
  {
   "cell_type": "code",
   "execution_count": 395,
   "metadata": {},
   "outputs": [
    {
     "name": "stdout",
     "output_type": "stream",
     "text": [
      "accuracy score:  0.9488505747126437\n",
      "Classification Report : \n",
      "               precision    recall  f1-score   support\n",
      "\n",
      "           0       0.95      0.96      0.95       950\n",
      "           1       0.90      0.89      0.90        74\n",
      "           2       0.96      0.94      0.95       716\n",
      "\n",
      "    accuracy                           0.95      1740\n",
      "   macro avg       0.94      0.93      0.93      1740\n",
      "weighted avg       0.95      0.95      0.95      1740\n",
      "\n",
      "Confusion_matrix:  [[912   7  31]\n",
      " [  8  66   0]\n",
      " [ 43   0 673]]\n",
      "cross val score:  0.9373448143592187\n",
      "roc auc score:  0.5441176470588235\n",
      "AxesSubplot(0.125,0.808774;0.62x0.0712264)\n",
      "\n",
      "\n",
      "\n"
     ]
    },
    {
     "data": {
      "image/png": "[encoded data removed]",
      "text/plain": [
       "<Figure size 720x2880 with 3 Axes>"
      ]
     },
     "metadata": {
      "needs_background": "light"
     },
     "output_type": "display_data"
    }
   ],
   "source": [
    "print (\"accuracy score: \", accuracy_score(y_test, y_pred))\n",
    "print (\"Classification Report : \\n\", classification_report (y_test, y_pred))\n",
    "print (\"Confusion_matrix: \", confusion_matrix(y_test, y_pred))\n",
    "cm = confusion_matrix(y_test, y_pred)\n",
    "\n",
    "sc = cross_val_score(rfc, x, y, cv =10, scoring='accuracy').mean()\n",
    "print (\"cross val score: \", sc)    \n",
    "\n",
    "fpr, tpr, thresholds = roc_curve(y_test, y_pred, pos_label=1)\n",
    "roc_auc = auc(fpr, tpr)\n",
    "print (\"roc auc score: \", roc_auc)\n",
    "   \n",
    "plt.figure(figsize=(10,40))\n",
    "plt.subplot(911)\n",
    "plt.title(\"Confusion Matrix\")\n",
    "print (sns.heatmap(cm, annot=True))\n",
    "     \n",
    "plt.subplot(912)\n",
    "plt.title(\"ROC AUC curve\")\n",
    "plt.plot(fpr, tpr, label='AUC = %0.2f'%(roc_auc))\n",
    "plt.plot ([0,1], [0,1], 'r--')\n",
    "plt.legend(loc = 'lower right')\n",
    "plt.ylabel('True Positive Rate')\n",
    "plt.xlabel('False Positive Rate')\n",
    "print ('\\n\\n')"
   ]
  },
  {
   "cell_type": "code",
   "execution_count": 396,
   "metadata": {},
   "outputs": [
    {
     "data": {
      "text/plain": [
       "['project_space.pkl']"
      ]
     },
     "execution_count": 396,
     "metadata": {},
     "output_type": "execute_result"
    }
   ],
   "source": [
    "# saving the model \n",
    "\n",
    "from sklearn.externals import joblib\n",
    "joblib.dump(rfc, 'project_space.pkl')\n",
    "#clf = joblib.load('project_space.pkl')\n",
    "#clf.predict(x_test)"
   ]
  },
  {
   "cell_type": "code",
   "execution_count": null,
   "metadata": {},
   "outputs": [],
   "source": []
  },
  {
   "cell_type": "code",
   "execution_count": null,
   "metadata": {},
   "outputs": [],
   "source": []
  },
  {
   "cell_type": "code",
   "execution_count": null,
   "metadata": {},
   "outputs": [],
   "source": []
  },
  {
   "cell_type": "code",
   "execution_count": null,
   "metadata": {},
   "outputs": [],
   "source": []
  },
  {
   "cell_type": "code",
   "execution_count": null,
   "metadata": {},
   "outputs": [],
   "source": []
  },
  {
   "cell_type": "code",
   "execution_count": null,
   "metadata": {},
   "outputs": [],
   "source": []
  },
  {
   "cell_type": "code",
   "execution_count": null,
   "metadata": {},
   "outputs": [],
   "source": []
  },
  {
   "cell_type": "code",
   "execution_count": 397,
   "metadata": {},
   "outputs": [
    {
     "ename": "SyntaxError",
     "evalue": "unexpected EOF while parsing (<ipython-input-397-414e9e800290>, line 2)",
     "output_type": "error",
     "traceback": [
      "\u001b[1;36m  File \u001b[1;32m\"<ipython-input-397-414e9e800290>\"\u001b[1;36m, line \u001b[1;32m2\u001b[0m\n\u001b[1;33m    'field', 'specobjid', 'class', 'redshift', 'plate', 'mjd', 'fiberid'\u001b[0m\n\u001b[1;37m                                                                        ^\u001b[0m\n\u001b[1;31mSyntaxError\u001b[0m\u001b[1;31m:\u001b[0m unexpected EOF while parsing\n"
     ]
    }
   ],
   "source": [
    "x(['objid', 'ra', 'dec', 'u', 'g', 'r', 'i', 'z', 'run', 'rerun', 'camcol',\n",
    "       'field', 'specobjid', 'class', 'redshift', 'plate', 'mjd', 'fiberid'"
   ]
  }
 ],
 "metadata": {
  "kernelspec": {
   "display_name": "Python 3",
   "language": "python",
   "name": "python3"
  },
  "language_info": {
   "codemirror_mode": {
    "name": "ipython",
    "version": 3
   },
   "file_extension": ".py",
   "mimetype": "text/x-python",
   "name": "python",
   "nbconvert_exporter": "python",
   "pygments_lexer": "ipython3",
   "version": "3.7.6"
  }
 },
 "nbformat": 4,
 "nbformat_minor": 4
}
